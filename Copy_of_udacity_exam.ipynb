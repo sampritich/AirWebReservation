{
  "nbformat": 4,
  "nbformat_minor": 0,
  "metadata": {
    "colab": {
      "name": "Copy of udacity_exam.ipynb",
      "provenance": [],
      "authorship_tag": "ABX9TyPzaeifCinqWDXuZobJ48I9",
      "include_colab_link": true
    },
    "kernelspec": {
      "name": "python3",
      "display_name": "Python 3"
    }
  },
  "cells": [
    {
      "cell_type": "markdown",
      "metadata": {
        "id": "view-in-github",
        "colab_type": "text"
      },
      "source": [
        "<a href=\"https://colab.research.google.com/github/sampritich/AirWebReservation/blob/master/Copy_of_udacity_exam.ipynb\" target=\"_parent\"><img src=\"https://colab.research.google.com/assets/colab-badge.svg\" alt=\"Open In Colab\"/></a>"
      ]
    },
    {
      "cell_type": "code",
      "metadata": {
        "id": "ecIieIDJHmr5",
        "colab_type": "code",
        "outputId": "38fb5fac-1c63-4a69-dbd7-690ad10ea1f4",
        "colab": {
          "base_uri": "https://localhost:8080/",
          "height": 463
        }
      },
      "source": [
        "!wget https://www.dropbox.com/s/ocoskgv0kcc7yid/nypd-motor-vehicle-collisions.zip"
      ],
      "execution_count": 2,
      "outputs": [
        {
          "output_type": "stream",
          "text": [
            "--2020-01-30 12:24:46--  https://www.dropbox.com/s/ocoskgv0kcc7yid/nypd-motor-vehicle-collisions.zip\n",
            "Resolving www.dropbox.com (www.dropbox.com)... 162.125.65.1, 2620:100:6021:1::a27d:4101\n",
            "Connecting to www.dropbox.com (www.dropbox.com)|162.125.65.1|:443... connected.\n",
            "HTTP request sent, awaiting response... 301 Moved Permanently\n",
            "Location: /s/raw/ocoskgv0kcc7yid/nypd-motor-vehicle-collisions.zip [following]\n",
            "--2020-01-30 12:24:46--  https://www.dropbox.com/s/raw/ocoskgv0kcc7yid/nypd-motor-vehicle-collisions.zip\n",
            "Reusing existing connection to www.dropbox.com:443.\n",
            "HTTP request sent, awaiting response... 302 Found\n",
            "Location: https://uc8d1d20172dddbb475e6baa3a9d.dl.dropboxusercontent.com/cd/0/inline/AxImDKMygdUJ5K3QJF7lxhcbe0snB8Vt3dkqyRvVzZX0jUU3ceIDAmOjXMCzdQt4sFkv2bUsdAF-V8Goq93yoOQH39NN7u19Yz0n2guUw2BDB9U-8k0DKGPqpoMGQ2hORyk/file# [following]\n",
            "--2020-01-30 12:24:47--  https://uc8d1d20172dddbb475e6baa3a9d.dl.dropboxusercontent.com/cd/0/inline/AxImDKMygdUJ5K3QJF7lxhcbe0snB8Vt3dkqyRvVzZX0jUU3ceIDAmOjXMCzdQt4sFkv2bUsdAF-V8Goq93yoOQH39NN7u19Yz0n2guUw2BDB9U-8k0DKGPqpoMGQ2hORyk/file\n",
            "Resolving uc8d1d20172dddbb475e6baa3a9d.dl.dropboxusercontent.com (uc8d1d20172dddbb475e6baa3a9d.dl.dropboxusercontent.com)... 162.125.65.6, 2620:100:6021:6::a27d:4106\n",
            "Connecting to uc8d1d20172dddbb475e6baa3a9d.dl.dropboxusercontent.com (uc8d1d20172dddbb475e6baa3a9d.dl.dropboxusercontent.com)|162.125.65.6|:443... connected.\n",
            "HTTP request sent, awaiting response... 302 FOUND\n",
            "Location: /cd/0/inline2/AxJj6_KG_6_syq2KA2YqP7H0cnmddS23bN9Cf_WNpmvZvV6H-k3ygc8qqxQfNjrkSz-nWXTbs2B8jVgotZov4fHq4kCsOBUg4zpcadrJJ162vjzrDpfjW2BPQRDKDO18fZrjvnO4gY2tHtfs5knVHk47VvF2X5QAmem2du989y9ltI0MkdCyrjC8YkrmFbkI5edqU8LrrcdLqM5jFzVZHRVklZUwnbXHKmVj4d_o-urMKcBOTYPA5BWFLra-W-5VNchepXVWR8XA3tQrTP7ImBSisdVj-kIvVQvnlEy38KpSPtUy3sTDCVFVsx9uQtcc97tYbFoReGJfUPCT5d2Ih89SqkPpQ3j6B-0cSXWYvF-V4g/file [following]\n",
            "--2020-01-30 12:24:47--  https://uc8d1d20172dddbb475e6baa3a9d.dl.dropboxusercontent.com/cd/0/inline2/AxJj6_KG_6_syq2KA2YqP7H0cnmddS23bN9Cf_WNpmvZvV6H-k3ygc8qqxQfNjrkSz-nWXTbs2B8jVgotZov4fHq4kCsOBUg4zpcadrJJ162vjzrDpfjW2BPQRDKDO18fZrjvnO4gY2tHtfs5knVHk47VvF2X5QAmem2du989y9ltI0MkdCyrjC8YkrmFbkI5edqU8LrrcdLqM5jFzVZHRVklZUwnbXHKmVj4d_o-urMKcBOTYPA5BWFLra-W-5VNchepXVWR8XA3tQrTP7ImBSisdVj-kIvVQvnlEy38KpSPtUy3sTDCVFVsx9uQtcc97tYbFoReGJfUPCT5d2Ih89SqkPpQ3j6B-0cSXWYvF-V4g/file\n",
            "Reusing existing connection to uc8d1d20172dddbb475e6baa3a9d.dl.dropboxusercontent.com:443.\n",
            "HTTP request sent, awaiting response... 200 OK\n",
            "Length: 71751457 (68M) [application/zip]\n",
            "Saving to: ‘nypd-motor-vehicle-collisions.zip’\n",
            "\n",
            "nypd-motor-vehicle- 100%[===================>]  68.43M  6.57MB/s    in 7.0s    \n",
            "\n",
            "2020-01-30 12:24:55 (9.75 MB/s) - ‘nypd-motor-vehicle-collisions.zip’ saved [71751457/71751457]\n",
            "\n"
          ],
          "name": "stdout"
        }
      ]
    },
    {
      "cell_type": "code",
      "metadata": {
        "id": "Nh38dsWEJocS",
        "colab_type": "code",
        "outputId": "1138666d-069a-4237-843d-b181e0660e36",
        "colab": {
          "base_uri": "https://localhost:8080/",
          "height": 87
        }
      },
      "source": [
        "!unzip /content/nypd-motor-vehicle-collisions.zip"
      ],
      "execution_count": 3,
      "outputs": [
        {
          "output_type": "stream",
          "text": [
            "Archive:  /content/nypd-motor-vehicle-collisions.zip\n",
            "  inflating: MVCollisionsDataDictionary_20190813_ERD.xlsx  \n",
            "  inflating: nypd-motor-vehicle-collisions.csv  \n",
            "  inflating: socrata_metadata.json   \n"
          ],
          "name": "stdout"
        }
      ]
    },
    {
      "cell_type": "code",
      "metadata": {
        "id": "7J15znG-JtW6",
        "colab_type": "code",
        "colab": {}
      },
      "source": [
        "import pandas as pd"
      ],
      "execution_count": 0,
      "outputs": []
    },
    {
      "cell_type": "code",
      "metadata": {
        "id": "mYNKL7H6KMzC",
        "colab_type": "code",
        "outputId": "1b44c2ed-921f-483c-a64d-89d8f8993e42",
        "colab": {
          "base_uri": "https://localhost:8080/",
          "height": 52
        }
      },
      "source": [
        "data=pd.read_csv('/content/nypd-motor-vehicle-collisions.csv')"
      ],
      "execution_count": 5,
      "outputs": [
        {
          "output_type": "stream",
          "text": [
            "/usr/local/lib/python3.6/dist-packages/IPython/core/interactiveshell.py:2718: DtypeWarning: Columns (3) have mixed types. Specify dtype option on import or set low_memory=False.\n",
            "  interactivity=interactivity, compiler=compiler, result=result)\n"
          ],
          "name": "stderr"
        }
      ]
    },
    {
      "cell_type": "code",
      "metadata": {
        "id": "HXszh0jkKQAW",
        "colab_type": "code",
        "outputId": "a46186a6-f51a-4ad0-af4b-13e1817aa9d8",
        "colab": {
          "base_uri": "https://localhost:8080/",
          "height": 601
        }
      },
      "source": [
        "data.head()"
      ],
      "execution_count": 6,
      "outputs": [
        {
          "output_type": "execute_result",
          "data": {
            "text/html": [
              "<div>\n",
              "<style scoped>\n",
              "    .dataframe tbody tr th:only-of-type {\n",
              "        vertical-align: middle;\n",
              "    }\n",
              "\n",
              "    .dataframe tbody tr th {\n",
              "        vertical-align: top;\n",
              "    }\n",
              "\n",
              "    .dataframe thead th {\n",
              "        text-align: right;\n",
              "    }\n",
              "</style>\n",
              "<table border=\"1\" class=\"dataframe\">\n",
              "  <thead>\n",
              "    <tr style=\"text-align: right;\">\n",
              "      <th></th>\n",
              "      <th>ACCIDENT DATE</th>\n",
              "      <th>ACCIDENT TIME</th>\n",
              "      <th>BOROUGH</th>\n",
              "      <th>ZIP CODE</th>\n",
              "      <th>LATITUDE</th>\n",
              "      <th>LONGITUDE</th>\n",
              "      <th>LOCATION</th>\n",
              "      <th>ON STREET NAME</th>\n",
              "      <th>CROSS STREET NAME</th>\n",
              "      <th>OFF STREET NAME</th>\n",
              "      <th>NUMBER OF PERSONS INJURED</th>\n",
              "      <th>NUMBER OF PERSONS KILLED</th>\n",
              "      <th>NUMBER OF PEDESTRIANS INJURED</th>\n",
              "      <th>NUMBER OF PEDESTRIANS KILLED</th>\n",
              "      <th>NUMBER OF CYCLIST INJURED</th>\n",
              "      <th>NUMBER OF CYCLIST KILLED</th>\n",
              "      <th>NUMBER OF MOTORIST INJURED</th>\n",
              "      <th>NUMBER OF MOTORIST KILLED</th>\n",
              "      <th>CONTRIBUTING FACTOR VEHICLE 1</th>\n",
              "      <th>CONTRIBUTING FACTOR VEHICLE 2</th>\n",
              "      <th>CONTRIBUTING FACTOR VEHICLE 3</th>\n",
              "      <th>CONTRIBUTING FACTOR VEHICLE 4</th>\n",
              "      <th>CONTRIBUTING FACTOR VEHICLE 5</th>\n",
              "      <th>COLLISION_ID</th>\n",
              "      <th>VEHICLE TYPE CODE 1</th>\n",
              "      <th>VEHICLE TYPE CODE 2</th>\n",
              "      <th>VEHICLE TYPE CODE 3</th>\n",
              "      <th>VEHICLE TYPE CODE 4</th>\n",
              "      <th>VEHICLE TYPE CODE 5</th>\n",
              "    </tr>\n",
              "  </thead>\n",
              "  <tbody>\n",
              "    <tr>\n",
              "      <th>0</th>\n",
              "      <td>2019-08-05T00:00:00.000</td>\n",
              "      <td>16:30</td>\n",
              "      <td>QUEENS</td>\n",
              "      <td>11434</td>\n",
              "      <td>40.676052</td>\n",
              "      <td>-73.790184</td>\n",
              "      <td>{'type': 'Point', 'coordinates': [-73.790184, ...</td>\n",
              "      <td>NaN</td>\n",
              "      <td>NaN</td>\n",
              "      <td>150-08    123 AVENUE</td>\n",
              "      <td>0.0</td>\n",
              "      <td>0.0</td>\n",
              "      <td>0</td>\n",
              "      <td>0</td>\n",
              "      <td>0</td>\n",
              "      <td>0</td>\n",
              "      <td>0</td>\n",
              "      <td>0</td>\n",
              "      <td>Passing Too Closely</td>\n",
              "      <td>Unspecified</td>\n",
              "      <td>NaN</td>\n",
              "      <td>NaN</td>\n",
              "      <td>NaN</td>\n",
              "      <td>4184637</td>\n",
              "      <td>Sedan</td>\n",
              "      <td>Pick-up Truck</td>\n",
              "      <td>NaN</td>\n",
              "      <td>NaN</td>\n",
              "      <td>NaN</td>\n",
              "    </tr>\n",
              "    <tr>\n",
              "      <th>1</th>\n",
              "      <td>2019-08-27T00:00:00.000</td>\n",
              "      <td>16:02</td>\n",
              "      <td>BROOKLYN</td>\n",
              "      <td>11225</td>\n",
              "      <td>40.657780</td>\n",
              "      <td>-73.951096</td>\n",
              "      <td>{'type': 'Point', 'coordinates': [-73.951096, ...</td>\n",
              "      <td>NaN</td>\n",
              "      <td>NaN</td>\n",
              "      <td>288       HAWTHORNE STREET</td>\n",
              "      <td>0.0</td>\n",
              "      <td>0.0</td>\n",
              "      <td>0</td>\n",
              "      <td>0</td>\n",
              "      <td>0</td>\n",
              "      <td>0</td>\n",
              "      <td>0</td>\n",
              "      <td>0</td>\n",
              "      <td>Passing Too Closely</td>\n",
              "      <td>Unspecified</td>\n",
              "      <td>NaN</td>\n",
              "      <td>NaN</td>\n",
              "      <td>NaN</td>\n",
              "      <td>4195773</td>\n",
              "      <td>Station Wagon/Sport Utility Vehicle</td>\n",
              "      <td>Station Wagon/Sport Utility Vehicle</td>\n",
              "      <td>NaN</td>\n",
              "      <td>NaN</td>\n",
              "      <td>NaN</td>\n",
              "    </tr>\n",
              "    <tr>\n",
              "      <th>2</th>\n",
              "      <td>2019-08-15T00:00:00.000</td>\n",
              "      <td>17:57</td>\n",
              "      <td>MANHATTAN</td>\n",
              "      <td>10002</td>\n",
              "      <td>40.718143</td>\n",
              "      <td>-73.993835</td>\n",
              "      <td>{'type': 'Point', 'coordinates': [-73.993835, ...</td>\n",
              "      <td>CHRYSTIE STREET</td>\n",
              "      <td>GRAND STREET</td>\n",
              "      <td>NaN</td>\n",
              "      <td>1.0</td>\n",
              "      <td>0.0</td>\n",
              "      <td>0</td>\n",
              "      <td>0</td>\n",
              "      <td>0</td>\n",
              "      <td>0</td>\n",
              "      <td>1</td>\n",
              "      <td>0</td>\n",
              "      <td>Driver Inattention/Distraction</td>\n",
              "      <td>NaN</td>\n",
              "      <td>NaN</td>\n",
              "      <td>NaN</td>\n",
              "      <td>NaN</td>\n",
              "      <td>4202457</td>\n",
              "      <td>Sedan</td>\n",
              "      <td>NaN</td>\n",
              "      <td>NaN</td>\n",
              "      <td>NaN</td>\n",
              "      <td>NaN</td>\n",
              "    </tr>\n",
              "    <tr>\n",
              "      <th>3</th>\n",
              "      <td>2019-08-30T00:00:00.000</td>\n",
              "      <td>21:53</td>\n",
              "      <td>BRONX</td>\n",
              "      <td>10460</td>\n",
              "      <td>40.840534</td>\n",
              "      <td>-73.866610</td>\n",
              "      <td>{'type': 'Point', 'coordinates': [-73.86661, 4...</td>\n",
              "      <td>NaN</td>\n",
              "      <td>NaN</td>\n",
              "      <td>1837      EAST TREMONT AVENUE</td>\n",
              "      <td>0.0</td>\n",
              "      <td>0.0</td>\n",
              "      <td>0</td>\n",
              "      <td>0</td>\n",
              "      <td>0</td>\n",
              "      <td>0</td>\n",
              "      <td>0</td>\n",
              "      <td>0</td>\n",
              "      <td>Unspecified</td>\n",
              "      <td>Unspecified</td>\n",
              "      <td>NaN</td>\n",
              "      <td>NaN</td>\n",
              "      <td>NaN</td>\n",
              "      <td>4198749</td>\n",
              "      <td>Taxi</td>\n",
              "      <td>Station Wagon/Sport Utility Vehicle</td>\n",
              "      <td>NaN</td>\n",
              "      <td>NaN</td>\n",
              "      <td>NaN</td>\n",
              "    </tr>\n",
              "    <tr>\n",
              "      <th>4</th>\n",
              "      <td>2019-08-06T00:00:00.000</td>\n",
              "      <td>9:45</td>\n",
              "      <td>MANHATTAN</td>\n",
              "      <td>10016</td>\n",
              "      <td>40.745440</td>\n",
              "      <td>-73.975400</td>\n",
              "      <td>{'type': 'Point', 'coordinates': [-73.9754, 40...</td>\n",
              "      <td>EAST 35 STREET</td>\n",
              "      <td>2 AVENUE</td>\n",
              "      <td>NaN</td>\n",
              "      <td>1.0</td>\n",
              "      <td>0.0</td>\n",
              "      <td>0</td>\n",
              "      <td>0</td>\n",
              "      <td>1</td>\n",
              "      <td>0</td>\n",
              "      <td>0</td>\n",
              "      <td>0</td>\n",
              "      <td>Driver Inattention/Distraction</td>\n",
              "      <td>Driver Inattention/Distraction</td>\n",
              "      <td>NaN</td>\n",
              "      <td>NaN</td>\n",
              "      <td>NaN</td>\n",
              "      <td>4183798</td>\n",
              "      <td>Station Wagon/Sport Utility Vehicle</td>\n",
              "      <td>Bike</td>\n",
              "      <td>NaN</td>\n",
              "      <td>NaN</td>\n",
              "      <td>NaN</td>\n",
              "    </tr>\n",
              "  </tbody>\n",
              "</table>\n",
              "</div>"
            ],
            "text/plain": [
              "             ACCIDENT DATE  ... VEHICLE TYPE CODE 5\n",
              "0  2019-08-05T00:00:00.000  ...                 NaN\n",
              "1  2019-08-27T00:00:00.000  ...                 NaN\n",
              "2  2019-08-15T00:00:00.000  ...                 NaN\n",
              "3  2019-08-30T00:00:00.000  ...                 NaN\n",
              "4  2019-08-06T00:00:00.000  ...                 NaN\n",
              "\n",
              "[5 rows x 29 columns]"
            ]
          },
          "metadata": {
            "tags": []
          },
          "execution_count": 6
        }
      ]
    },
    {
      "cell_type": "code",
      "metadata": {
        "id": "UK7xC65FMVba",
        "colab_type": "code",
        "outputId": "c00edecb-0cbf-4db6-df2a-44411d62aa29",
        "colab": {
          "base_uri": "https://localhost:8080/",
          "height": 34
        }
      },
      "source": [
        "data.shape"
      ],
      "execution_count": 7,
      "outputs": [
        {
          "output_type": "execute_result",
          "data": {
            "text/plain": [
              "(1612178, 29)"
            ]
          },
          "metadata": {
            "tags": []
          },
          "execution_count": 7
        }
      ]
    },
    {
      "cell_type": "code",
      "metadata": {
        "id": "gL6E6VV1KZpf",
        "colab_type": "code",
        "outputId": "f2799162-9f25-4e44-e262-d555c9fa1e26",
        "colab": {
          "base_uri": "https://localhost:8080/",
          "height": 271
        }
      },
      "source": [
        "data.describe(include='O')"
      ],
      "execution_count": 8,
      "outputs": [
        {
          "output_type": "execute_result",
          "data": {
            "text/html": [
              "<div>\n",
              "<style scoped>\n",
              "    .dataframe tbody tr th:only-of-type {\n",
              "        vertical-align: middle;\n",
              "    }\n",
              "\n",
              "    .dataframe tbody tr th {\n",
              "        vertical-align: top;\n",
              "    }\n",
              "\n",
              "    .dataframe thead th {\n",
              "        text-align: right;\n",
              "    }\n",
              "</style>\n",
              "<table border=\"1\" class=\"dataframe\">\n",
              "  <thead>\n",
              "    <tr style=\"text-align: right;\">\n",
              "      <th></th>\n",
              "      <th>ACCIDENT DATE</th>\n",
              "      <th>ACCIDENT TIME</th>\n",
              "      <th>BOROUGH</th>\n",
              "      <th>ZIP CODE</th>\n",
              "      <th>LOCATION</th>\n",
              "      <th>ON STREET NAME</th>\n",
              "      <th>CROSS STREET NAME</th>\n",
              "      <th>OFF STREET NAME</th>\n",
              "      <th>CONTRIBUTING FACTOR VEHICLE 1</th>\n",
              "      <th>CONTRIBUTING FACTOR VEHICLE 2</th>\n",
              "      <th>CONTRIBUTING FACTOR VEHICLE 3</th>\n",
              "      <th>CONTRIBUTING FACTOR VEHICLE 4</th>\n",
              "      <th>CONTRIBUTING FACTOR VEHICLE 5</th>\n",
              "      <th>VEHICLE TYPE CODE 1</th>\n",
              "      <th>VEHICLE TYPE CODE 2</th>\n",
              "      <th>VEHICLE TYPE CODE 3</th>\n",
              "      <th>VEHICLE TYPE CODE 4</th>\n",
              "      <th>VEHICLE TYPE CODE 5</th>\n",
              "    </tr>\n",
              "  </thead>\n",
              "  <tbody>\n",
              "    <tr>\n",
              "      <th>count</th>\n",
              "      <td>1612178</td>\n",
              "      <td>1612178</td>\n",
              "      <td>1127553</td>\n",
              "      <td>1127376.0</td>\n",
              "      <td>1415893</td>\n",
              "      <td>1298002</td>\n",
              "      <td>1079193</td>\n",
              "      <td>219732</td>\n",
              "      <td>1607854</td>\n",
              "      <td>1396127</td>\n",
              "      <td>104254</td>\n",
              "      <td>21789</td>\n",
              "      <td>5622</td>\n",
              "      <td>1606597</td>\n",
              "      <td>1346858</td>\n",
              "      <td>128742</td>\n",
              "      <td>46009</td>\n",
              "      <td>10150</td>\n",
              "    </tr>\n",
              "    <tr>\n",
              "      <th>unique</th>\n",
              "      <td>2702</td>\n",
              "      <td>1440</td>\n",
              "      <td>5</td>\n",
              "      <td>438.0</td>\n",
              "      <td>182540</td>\n",
              "      <td>10471</td>\n",
              "      <td>16869</td>\n",
              "      <td>114290</td>\n",
              "      <td>61</td>\n",
              "      <td>61</td>\n",
              "      <td>50</td>\n",
              "      <td>36</td>\n",
              "      <td>22</td>\n",
              "      <td>623</td>\n",
              "      <td>606</td>\n",
              "      <td>123</td>\n",
              "      <td>66</td>\n",
              "      <td>44</td>\n",
              "    </tr>\n",
              "    <tr>\n",
              "      <th>top</th>\n",
              "      <td>2018-09-06T00:00:00.000</td>\n",
              "      <td>16:00</td>\n",
              "      <td>BROOKLYN</td>\n",
              "      <td>11207.0</td>\n",
              "      <td>{'type': 'Point', 'coordinates': [0, 0]}</td>\n",
              "      <td>BROADWAY</td>\n",
              "      <td>3 AVENUE</td>\n",
              "      <td>772       EDGEWATER ROAD</td>\n",
              "      <td>Unspecified</td>\n",
              "      <td>Unspecified</td>\n",
              "      <td>Unspecified</td>\n",
              "      <td>Unspecified</td>\n",
              "      <td>Unspecified</td>\n",
              "      <td>PASSENGER VEHICLE</td>\n",
              "      <td>PASSENGER VEHICLE</td>\n",
              "      <td>PASSENGER VEHICLE</td>\n",
              "      <td>PASSENGER VEHICLE</td>\n",
              "      <td>PASSENGER VEHICLE</td>\n",
              "    </tr>\n",
              "    <tr>\n",
              "      <th>freq</th>\n",
              "      <td>1635</td>\n",
              "      <td>23453</td>\n",
              "      <td>349682</td>\n",
              "      <td>12379.0</td>\n",
              "      <td>1226</td>\n",
              "      <td>15915</td>\n",
              "      <td>10131</td>\n",
              "      <td>341</td>\n",
              "      <td>595805</td>\n",
              "      <td>1173564</td>\n",
              "      <td>96893</td>\n",
              "      <td>20538</td>\n",
              "      <td>5299</td>\n",
              "      <td>713352</td>\n",
              "      <td>535693</td>\n",
              "      <td>61113</td>\n",
              "      <td>22820</td>\n",
              "      <td>5236</td>\n",
              "    </tr>\n",
              "  </tbody>\n",
              "</table>\n",
              "</div>"
            ],
            "text/plain": [
              "                  ACCIDENT DATE  ... VEHICLE TYPE CODE 5\n",
              "count                   1612178  ...               10150\n",
              "unique                     2702  ...                  44\n",
              "top     2018-09-06T00:00:00.000  ...   PASSENGER VEHICLE\n",
              "freq                       1635  ...                5236\n",
              "\n",
              "[4 rows x 18 columns]"
            ]
          },
          "metadata": {
            "tags": []
          },
          "execution_count": 8
        }
      ]
    },
    {
      "cell_type": "code",
      "metadata": {
        "id": "sHAt4ls3KoMA",
        "colab_type": "code",
        "outputId": "3f2b1693-dbd7-44ad-c894-63f6507b3698",
        "colab": {
          "base_uri": "https://localhost:8080/",
          "height": 321
        }
      },
      "source": [
        "data.describe()"
      ],
      "execution_count": 9,
      "outputs": [
        {
          "output_type": "execute_result",
          "data": {
            "text/html": [
              "<div>\n",
              "<style scoped>\n",
              "    .dataframe tbody tr th:only-of-type {\n",
              "        vertical-align: middle;\n",
              "    }\n",
              "\n",
              "    .dataframe tbody tr th {\n",
              "        vertical-align: top;\n",
              "    }\n",
              "\n",
              "    .dataframe thead th {\n",
              "        text-align: right;\n",
              "    }\n",
              "</style>\n",
              "<table border=\"1\" class=\"dataframe\">\n",
              "  <thead>\n",
              "    <tr style=\"text-align: right;\">\n",
              "      <th></th>\n",
              "      <th>LATITUDE</th>\n",
              "      <th>LONGITUDE</th>\n",
              "      <th>NUMBER OF PERSONS INJURED</th>\n",
              "      <th>NUMBER OF PERSONS KILLED</th>\n",
              "      <th>NUMBER OF PEDESTRIANS INJURED</th>\n",
              "      <th>NUMBER OF PEDESTRIANS KILLED</th>\n",
              "      <th>NUMBER OF CYCLIST INJURED</th>\n",
              "      <th>NUMBER OF CYCLIST KILLED</th>\n",
              "      <th>NUMBER OF MOTORIST INJURED</th>\n",
              "      <th>NUMBER OF MOTORIST KILLED</th>\n",
              "      <th>COLLISION_ID</th>\n",
              "    </tr>\n",
              "  </thead>\n",
              "  <tbody>\n",
              "    <tr>\n",
              "      <th>count</th>\n",
              "      <td>1.415893e+06</td>\n",
              "      <td>1.415893e+06</td>\n",
              "      <td>1.612161e+06</td>\n",
              "      <td>1.612145e+06</td>\n",
              "      <td>1.612178e+06</td>\n",
              "      <td>1.612178e+06</td>\n",
              "      <td>1.612178e+06</td>\n",
              "      <td>1.612178e+06</td>\n",
              "      <td>1.612178e+06</td>\n",
              "      <td>1.612178e+06</td>\n",
              "      <td>1.612178e+06</td>\n",
              "    </tr>\n",
              "    <tr>\n",
              "      <th>mean</th>\n",
              "      <td>4.068864e+01</td>\n",
              "      <td>-7.386657e+01</td>\n",
              "      <td>2.631363e-01</td>\n",
              "      <td>1.185998e-03</td>\n",
              "      <td>5.060483e-02</td>\n",
              "      <td>6.302034e-04</td>\n",
              "      <td>2.098590e-02</td>\n",
              "      <td>9.242156e-05</td>\n",
              "      <td>1.916854e-01</td>\n",
              "      <td>4.633483e-04</td>\n",
              "      <td>2.765946e+06</td>\n",
              "    </tr>\n",
              "    <tr>\n",
              "      <th>std</th>\n",
              "      <td>1.200403e+00</td>\n",
              "      <td>2.438640e+00</td>\n",
              "      <td>6.584832e-01</td>\n",
              "      <td>3.644859e-02</td>\n",
              "      <td>2.316972e-01</td>\n",
              "      <td>2.577872e-02</td>\n",
              "      <td>1.445222e-01</td>\n",
              "      <td>9.677481e-03</td>\n",
              "      <td>6.206497e-01</td>\n",
              "      <td>2.334547e-02</td>\n",
              "      <td>1.506373e+06</td>\n",
              "    </tr>\n",
              "    <tr>\n",
              "      <th>min</th>\n",
              "      <td>0.000000e+00</td>\n",
              "      <td>-2.012371e+02</td>\n",
              "      <td>0.000000e+00</td>\n",
              "      <td>0.000000e+00</td>\n",
              "      <td>0.000000e+00</td>\n",
              "      <td>0.000000e+00</td>\n",
              "      <td>0.000000e+00</td>\n",
              "      <td>0.000000e+00</td>\n",
              "      <td>0.000000e+00</td>\n",
              "      <td>0.000000e+00</td>\n",
              "      <td>2.300000e+01</td>\n",
              "    </tr>\n",
              "    <tr>\n",
              "      <th>25%</th>\n",
              "      <td>4.066882e+01</td>\n",
              "      <td>-7.397746e+01</td>\n",
              "      <td>0.000000e+00</td>\n",
              "      <td>0.000000e+00</td>\n",
              "      <td>0.000000e+00</td>\n",
              "      <td>0.000000e+00</td>\n",
              "      <td>0.000000e+00</td>\n",
              "      <td>0.000000e+00</td>\n",
              "      <td>0.000000e+00</td>\n",
              "      <td>0.000000e+00</td>\n",
              "      <td>1.014464e+06</td>\n",
              "    </tr>\n",
              "    <tr>\n",
              "      <th>50%</th>\n",
              "      <td>4.072258e+01</td>\n",
              "      <td>-7.393002e+01</td>\n",
              "      <td>0.000000e+00</td>\n",
              "      <td>0.000000e+00</td>\n",
              "      <td>0.000000e+00</td>\n",
              "      <td>0.000000e+00</td>\n",
              "      <td>0.000000e+00</td>\n",
              "      <td>0.000000e+00</td>\n",
              "      <td>0.000000e+00</td>\n",
              "      <td>0.000000e+00</td>\n",
              "      <td>3.422826e+06</td>\n",
              "    </tr>\n",
              "    <tr>\n",
              "      <th>75%</th>\n",
              "      <td>4.076789e+01</td>\n",
              "      <td>-7.386727e+01</td>\n",
              "      <td>0.000000e+00</td>\n",
              "      <td>0.000000e+00</td>\n",
              "      <td>0.000000e+00</td>\n",
              "      <td>0.000000e+00</td>\n",
              "      <td>0.000000e+00</td>\n",
              "      <td>0.000000e+00</td>\n",
              "      <td>0.000000e+00</td>\n",
              "      <td>0.000000e+00</td>\n",
              "      <td>3.854210e+06</td>\n",
              "    </tr>\n",
              "    <tr>\n",
              "      <th>max</th>\n",
              "      <td>4.231832e+01</td>\n",
              "      <td>0.000000e+00</td>\n",
              "      <td>3.100000e+01</td>\n",
              "      <td>8.000000e+00</td>\n",
              "      <td>2.700000e+01</td>\n",
              "      <td>6.000000e+00</td>\n",
              "      <td>4.000000e+00</td>\n",
              "      <td>2.000000e+00</td>\n",
              "      <td>3.100000e+01</td>\n",
              "      <td>5.000000e+00</td>\n",
              "      <td>4.249104e+06</td>\n",
              "    </tr>\n",
              "  </tbody>\n",
              "</table>\n",
              "</div>"
            ],
            "text/plain": [
              "           LATITUDE     LONGITUDE  ...  NUMBER OF MOTORIST KILLED  COLLISION_ID\n",
              "count  1.415893e+06  1.415893e+06  ...               1.612178e+06  1.612178e+06\n",
              "mean   4.068864e+01 -7.386657e+01  ...               4.633483e-04  2.765946e+06\n",
              "std    1.200403e+00  2.438640e+00  ...               2.334547e-02  1.506373e+06\n",
              "min    0.000000e+00 -2.012371e+02  ...               0.000000e+00  2.300000e+01\n",
              "25%    4.066882e+01 -7.397746e+01  ...               0.000000e+00  1.014464e+06\n",
              "50%    4.072258e+01 -7.393002e+01  ...               0.000000e+00  3.422826e+06\n",
              "75%    4.076789e+01 -7.386727e+01  ...               0.000000e+00  3.854210e+06\n",
              "max    4.231832e+01  0.000000e+00  ...               5.000000e+00  4.249104e+06\n",
              "\n",
              "[8 rows x 11 columns]"
            ]
          },
          "metadata": {
            "tags": []
          },
          "execution_count": 9
        }
      ]
    },
    {
      "cell_type": "code",
      "metadata": {
        "id": "UOQq0tzlK-VT",
        "colab_type": "code",
        "outputId": "52710494-b906-413b-e1a3-7197c4033374",
        "colab": {
          "base_uri": "https://localhost:8080/",
          "height": 230
        }
      },
      "source": [
        "data.columns"
      ],
      "execution_count": 10,
      "outputs": [
        {
          "output_type": "execute_result",
          "data": {
            "text/plain": [
              "Index(['ACCIDENT DATE', 'ACCIDENT TIME', 'BOROUGH', 'ZIP CODE', 'LATITUDE',\n",
              "       'LONGITUDE', 'LOCATION', 'ON STREET NAME', 'CROSS STREET NAME',\n",
              "       'OFF STREET NAME', 'NUMBER OF PERSONS INJURED',\n",
              "       'NUMBER OF PERSONS KILLED', 'NUMBER OF PEDESTRIANS INJURED',\n",
              "       'NUMBER OF PEDESTRIANS KILLED', 'NUMBER OF CYCLIST INJURED',\n",
              "       'NUMBER OF CYCLIST KILLED', 'NUMBER OF MOTORIST INJURED',\n",
              "       'NUMBER OF MOTORIST KILLED', 'CONTRIBUTING FACTOR VEHICLE 1',\n",
              "       'CONTRIBUTING FACTOR VEHICLE 2', 'CONTRIBUTING FACTOR VEHICLE 3',\n",
              "       'CONTRIBUTING FACTOR VEHICLE 4', 'CONTRIBUTING FACTOR VEHICLE 5',\n",
              "       'COLLISION_ID', 'VEHICLE TYPE CODE 1', 'VEHICLE TYPE CODE 2',\n",
              "       'VEHICLE TYPE CODE 3', 'VEHICLE TYPE CODE 4', 'VEHICLE TYPE CODE 5'],\n",
              "      dtype='object')"
            ]
          },
          "metadata": {
            "tags": []
          },
          "execution_count": 10
        }
      ]
    },
    {
      "cell_type": "code",
      "metadata": {
        "id": "_4KtNDnbLniD",
        "colab_type": "code",
        "outputId": "99d86856-478e-49d3-e7e8-1a746f1a56a5",
        "colab": {
          "base_uri": "https://localhost:8080/",
          "height": 550
        }
      },
      "source": [
        "data.isna().any()"
      ],
      "execution_count": 11,
      "outputs": [
        {
          "output_type": "execute_result",
          "data": {
            "text/plain": [
              "ACCIDENT DATE                    False\n",
              "ACCIDENT TIME                    False\n",
              "BOROUGH                           True\n",
              "ZIP CODE                          True\n",
              "LATITUDE                          True\n",
              "LONGITUDE                         True\n",
              "LOCATION                          True\n",
              "ON STREET NAME                    True\n",
              "CROSS STREET NAME                 True\n",
              "OFF STREET NAME                   True\n",
              "NUMBER OF PERSONS INJURED         True\n",
              "NUMBER OF PERSONS KILLED          True\n",
              "NUMBER OF PEDESTRIANS INJURED    False\n",
              "NUMBER OF PEDESTRIANS KILLED     False\n",
              "NUMBER OF CYCLIST INJURED        False\n",
              "NUMBER OF CYCLIST KILLED         False\n",
              "NUMBER OF MOTORIST INJURED       False\n",
              "NUMBER OF MOTORIST KILLED        False\n",
              "CONTRIBUTING FACTOR VEHICLE 1     True\n",
              "CONTRIBUTING FACTOR VEHICLE 2     True\n",
              "CONTRIBUTING FACTOR VEHICLE 3     True\n",
              "CONTRIBUTING FACTOR VEHICLE 4     True\n",
              "CONTRIBUTING FACTOR VEHICLE 5     True\n",
              "COLLISION_ID                     False\n",
              "VEHICLE TYPE CODE 1               True\n",
              "VEHICLE TYPE CODE 2               True\n",
              "VEHICLE TYPE CODE 3               True\n",
              "VEHICLE TYPE CODE 4               True\n",
              "VEHICLE TYPE CODE 5               True\n",
              "dtype: bool"
            ]
          },
          "metadata": {
            "tags": []
          },
          "execution_count": 11
        }
      ]
    },
    {
      "cell_type": "code",
      "metadata": {
        "id": "3E3aEHq7LrkH",
        "colab_type": "code",
        "colab": {}
      },
      "source": [
        "null_columns=pd.DataFrame({'Columns':data.isna().sum().index,'No. Null values':data.isna().sum().values,'Percentage':data.isna().sum().values/data.shape[0]})"
      ],
      "execution_count": 0,
      "outputs": []
    },
    {
      "cell_type": "code",
      "metadata": {
        "id": "O2zwUK8nSxsr",
        "colab_type": "code",
        "outputId": "b4936086-15e8-4ad5-da47-d509d560791d",
        "colab": {
          "base_uri": "https://localhost:8080/",
          "height": 917
        }
      },
      "source": [
        "null_columns"
      ],
      "execution_count": 13,
      "outputs": [
        {
          "output_type": "execute_result",
          "data": {
            "text/html": [
              "<div>\n",
              "<style scoped>\n",
              "    .dataframe tbody tr th:only-of-type {\n",
              "        vertical-align: middle;\n",
              "    }\n",
              "\n",
              "    .dataframe tbody tr th {\n",
              "        vertical-align: top;\n",
              "    }\n",
              "\n",
              "    .dataframe thead th {\n",
              "        text-align: right;\n",
              "    }\n",
              "</style>\n",
              "<table border=\"1\" class=\"dataframe\">\n",
              "  <thead>\n",
              "    <tr style=\"text-align: right;\">\n",
              "      <th></th>\n",
              "      <th>Columns</th>\n",
              "      <th>No. Null values</th>\n",
              "      <th>Percentage</th>\n",
              "    </tr>\n",
              "  </thead>\n",
              "  <tbody>\n",
              "    <tr>\n",
              "      <th>0</th>\n",
              "      <td>ACCIDENT DATE</td>\n",
              "      <td>0</td>\n",
              "      <td>0.000000</td>\n",
              "    </tr>\n",
              "    <tr>\n",
              "      <th>1</th>\n",
              "      <td>ACCIDENT TIME</td>\n",
              "      <td>0</td>\n",
              "      <td>0.000000</td>\n",
              "    </tr>\n",
              "    <tr>\n",
              "      <th>2</th>\n",
              "      <td>BOROUGH</td>\n",
              "      <td>484625</td>\n",
              "      <td>0.300603</td>\n",
              "    </tr>\n",
              "    <tr>\n",
              "      <th>3</th>\n",
              "      <td>ZIP CODE</td>\n",
              "      <td>484802</td>\n",
              "      <td>0.300712</td>\n",
              "    </tr>\n",
              "    <tr>\n",
              "      <th>4</th>\n",
              "      <td>LATITUDE</td>\n",
              "      <td>196285</td>\n",
              "      <td>0.121751</td>\n",
              "    </tr>\n",
              "    <tr>\n",
              "      <th>5</th>\n",
              "      <td>LONGITUDE</td>\n",
              "      <td>196285</td>\n",
              "      <td>0.121751</td>\n",
              "    </tr>\n",
              "    <tr>\n",
              "      <th>6</th>\n",
              "      <td>LOCATION</td>\n",
              "      <td>196285</td>\n",
              "      <td>0.121751</td>\n",
              "    </tr>\n",
              "    <tr>\n",
              "      <th>7</th>\n",
              "      <td>ON STREET NAME</td>\n",
              "      <td>314176</td>\n",
              "      <td>0.194877</td>\n",
              "    </tr>\n",
              "    <tr>\n",
              "      <th>8</th>\n",
              "      <td>CROSS STREET NAME</td>\n",
              "      <td>532985</td>\n",
              "      <td>0.330599</td>\n",
              "    </tr>\n",
              "    <tr>\n",
              "      <th>9</th>\n",
              "      <td>OFF STREET NAME</td>\n",
              "      <td>1392446</td>\n",
              "      <td>0.863705</td>\n",
              "    </tr>\n",
              "    <tr>\n",
              "      <th>10</th>\n",
              "      <td>NUMBER OF PERSONS INJURED</td>\n",
              "      <td>17</td>\n",
              "      <td>0.000011</td>\n",
              "    </tr>\n",
              "    <tr>\n",
              "      <th>11</th>\n",
              "      <td>NUMBER OF PERSONS KILLED</td>\n",
              "      <td>33</td>\n",
              "      <td>0.000020</td>\n",
              "    </tr>\n",
              "    <tr>\n",
              "      <th>12</th>\n",
              "      <td>NUMBER OF PEDESTRIANS INJURED</td>\n",
              "      <td>0</td>\n",
              "      <td>0.000000</td>\n",
              "    </tr>\n",
              "    <tr>\n",
              "      <th>13</th>\n",
              "      <td>NUMBER OF PEDESTRIANS KILLED</td>\n",
              "      <td>0</td>\n",
              "      <td>0.000000</td>\n",
              "    </tr>\n",
              "    <tr>\n",
              "      <th>14</th>\n",
              "      <td>NUMBER OF CYCLIST INJURED</td>\n",
              "      <td>0</td>\n",
              "      <td>0.000000</td>\n",
              "    </tr>\n",
              "    <tr>\n",
              "      <th>15</th>\n",
              "      <td>NUMBER OF CYCLIST KILLED</td>\n",
              "      <td>0</td>\n",
              "      <td>0.000000</td>\n",
              "    </tr>\n",
              "    <tr>\n",
              "      <th>16</th>\n",
              "      <td>NUMBER OF MOTORIST INJURED</td>\n",
              "      <td>0</td>\n",
              "      <td>0.000000</td>\n",
              "    </tr>\n",
              "    <tr>\n",
              "      <th>17</th>\n",
              "      <td>NUMBER OF MOTORIST KILLED</td>\n",
              "      <td>0</td>\n",
              "      <td>0.000000</td>\n",
              "    </tr>\n",
              "    <tr>\n",
              "      <th>18</th>\n",
              "      <td>CONTRIBUTING FACTOR VEHICLE 1</td>\n",
              "      <td>4324</td>\n",
              "      <td>0.002682</td>\n",
              "    </tr>\n",
              "    <tr>\n",
              "      <th>19</th>\n",
              "      <td>CONTRIBUTING FACTOR VEHICLE 2</td>\n",
              "      <td>216051</td>\n",
              "      <td>0.134012</td>\n",
              "    </tr>\n",
              "    <tr>\n",
              "      <th>20</th>\n",
              "      <td>CONTRIBUTING FACTOR VEHICLE 3</td>\n",
              "      <td>1507924</td>\n",
              "      <td>0.935333</td>\n",
              "    </tr>\n",
              "    <tr>\n",
              "      <th>21</th>\n",
              "      <td>CONTRIBUTING FACTOR VEHICLE 4</td>\n",
              "      <td>1590389</td>\n",
              "      <td>0.986485</td>\n",
              "    </tr>\n",
              "    <tr>\n",
              "      <th>22</th>\n",
              "      <td>CONTRIBUTING FACTOR VEHICLE 5</td>\n",
              "      <td>1606556</td>\n",
              "      <td>0.996513</td>\n",
              "    </tr>\n",
              "    <tr>\n",
              "      <th>23</th>\n",
              "      <td>COLLISION_ID</td>\n",
              "      <td>0</td>\n",
              "      <td>0.000000</td>\n",
              "    </tr>\n",
              "    <tr>\n",
              "      <th>24</th>\n",
              "      <td>VEHICLE TYPE CODE 1</td>\n",
              "      <td>5581</td>\n",
              "      <td>0.003462</td>\n",
              "    </tr>\n",
              "    <tr>\n",
              "      <th>25</th>\n",
              "      <td>VEHICLE TYPE CODE 2</td>\n",
              "      <td>265320</td>\n",
              "      <td>0.164572</td>\n",
              "    </tr>\n",
              "    <tr>\n",
              "      <th>26</th>\n",
              "      <td>VEHICLE TYPE CODE 3</td>\n",
              "      <td>1483436</td>\n",
              "      <td>0.920144</td>\n",
              "    </tr>\n",
              "    <tr>\n",
              "      <th>27</th>\n",
              "      <td>VEHICLE TYPE CODE 4</td>\n",
              "      <td>1566169</td>\n",
              "      <td>0.971462</td>\n",
              "    </tr>\n",
              "    <tr>\n",
              "      <th>28</th>\n",
              "      <td>VEHICLE TYPE CODE 5</td>\n",
              "      <td>1602028</td>\n",
              "      <td>0.993704</td>\n",
              "    </tr>\n",
              "  </tbody>\n",
              "</table>\n",
              "</div>"
            ],
            "text/plain": [
              "                          Columns  No. Null values  Percentage\n",
              "0                   ACCIDENT DATE                0    0.000000\n",
              "1                   ACCIDENT TIME                0    0.000000\n",
              "2                         BOROUGH           484625    0.300603\n",
              "3                        ZIP CODE           484802    0.300712\n",
              "4                        LATITUDE           196285    0.121751\n",
              "5                       LONGITUDE           196285    0.121751\n",
              "6                        LOCATION           196285    0.121751\n",
              "7                  ON STREET NAME           314176    0.194877\n",
              "8               CROSS STREET NAME           532985    0.330599\n",
              "9                 OFF STREET NAME          1392446    0.863705\n",
              "10      NUMBER OF PERSONS INJURED               17    0.000011\n",
              "11       NUMBER OF PERSONS KILLED               33    0.000020\n",
              "12  NUMBER OF PEDESTRIANS INJURED                0    0.000000\n",
              "13   NUMBER OF PEDESTRIANS KILLED                0    0.000000\n",
              "14      NUMBER OF CYCLIST INJURED                0    0.000000\n",
              "15       NUMBER OF CYCLIST KILLED                0    0.000000\n",
              "16     NUMBER OF MOTORIST INJURED                0    0.000000\n",
              "17      NUMBER OF MOTORIST KILLED                0    0.000000\n",
              "18  CONTRIBUTING FACTOR VEHICLE 1             4324    0.002682\n",
              "19  CONTRIBUTING FACTOR VEHICLE 2           216051    0.134012\n",
              "20  CONTRIBUTING FACTOR VEHICLE 3          1507924    0.935333\n",
              "21  CONTRIBUTING FACTOR VEHICLE 4          1590389    0.986485\n",
              "22  CONTRIBUTING FACTOR VEHICLE 5          1606556    0.996513\n",
              "23                   COLLISION_ID                0    0.000000\n",
              "24            VEHICLE TYPE CODE 1             5581    0.003462\n",
              "25            VEHICLE TYPE CODE 2           265320    0.164572\n",
              "26            VEHICLE TYPE CODE 3          1483436    0.920144\n",
              "27            VEHICLE TYPE CODE 4          1566169    0.971462\n",
              "28            VEHICLE TYPE CODE 5          1602028    0.993704"
            ]
          },
          "metadata": {
            "tags": []
          },
          "execution_count": 13
        }
      ]
    },
    {
      "cell_type": "markdown",
      "metadata": {
        "id": "Jrct6U3CPQwQ",
        "colab_type": "text"
      },
      "source": [
        "#<b>clean the data</b>"
      ]
    },
    {
      "cell_type": "code",
      "metadata": {
        "id": "mBEMMxIjQ0sC",
        "colab_type": "code",
        "outputId": "8430955a-28cd-438e-c9d9-74f7f5180dea",
        "colab": {
          "base_uri": "https://localhost:8080/",
          "height": 230
        }
      },
      "source": [
        "null_rows=data.isnull().sum(axis=1)\n",
        "null_rows"
      ],
      "execution_count": 14,
      "outputs": [
        {
          "output_type": "execute_result",
          "data": {
            "text/plain": [
              "0           8\n",
              "1           8\n",
              "2           9\n",
              "3           8\n",
              "4           7\n",
              "           ..\n",
              "1612173     7\n",
              "1612174    10\n",
              "1612175    11\n",
              "1612176     5\n",
              "1612177     9\n",
              "Length: 1612178, dtype: int64"
            ]
          },
          "metadata": {
            "tags": []
          },
          "execution_count": 14
        }
      ]
    },
    {
      "cell_type": "code",
      "metadata": {
        "id": "Ep_mdJByR0sw",
        "colab_type": "code",
        "outputId": "236dd7f9-5908-4a3d-e0b7-9a530b1e6d27",
        "colab": {
          "base_uri": "https://localhost:8080/",
          "height": 34
        }
      },
      "source": [
        "len_null_rows=len(null_rows[null_rows>15])\n",
        "len_null_rows"
      ],
      "execution_count": 15,
      "outputs": [
        {
          "output_type": "execute_result",
          "data": {
            "text/plain": [
              "2536"
            ]
          },
          "metadata": {
            "tags": []
          },
          "execution_count": 15
        }
      ]
    },
    {
      "cell_type": "code",
      "metadata": {
        "id": "E2KKXPClR9ba",
        "colab_type": "code",
        "colab": {}
      },
      "source": [
        "indexes_of_null_rows=null_rows[null_rows>15].index"
      ],
      "execution_count": 0,
      "outputs": []
    },
    {
      "cell_type": "code",
      "metadata": {
        "id": "UsjvBpY7ShRz",
        "colab_type": "code",
        "outputId": "88f2ea27-2be6-425e-9a79-fa45d19f0ae6",
        "colab": {
          "base_uri": "https://localhost:8080/",
          "height": 123
        }
      },
      "source": [
        "indexes_of_null_rows"
      ],
      "execution_count": 17,
      "outputs": [
        {
          "output_type": "execute_result",
          "data": {
            "text/plain": [
              "Int64Index([  12165,   14187,   19736,   22584,   23269,   28399,   29468,\n",
              "              34161,   36893,   38828,\n",
              "            ...\n",
              "            1608352, 1609053, 1609628, 1609959, 1610250, 1610490, 1610715,\n",
              "            1611246, 1612004, 1612022],\n",
              "           dtype='int64', length=2536)"
            ]
          },
          "metadata": {
            "tags": []
          },
          "execution_count": 17
        }
      ]
    },
    {
      "cell_type": "code",
      "metadata": {
        "id": "118Xo2jnS-LC",
        "colab_type": "code",
        "colab": {}
      },
      "source": [
        "datadup=data"
      ],
      "execution_count": 0,
      "outputs": []
    },
    {
      "cell_type": "code",
      "metadata": {
        "id": "W4S6T6axTBsa",
        "colab_type": "code",
        "colab": {}
      },
      "source": [
        "datadup=datadup.drop(null_columns[null_columns.Percentage>0.80].Columns,axis=1)"
      ],
      "execution_count": 0,
      "outputs": []
    },
    {
      "cell_type": "code",
      "metadata": {
        "id": "gRrQCYunTq7I",
        "colab_type": "code",
        "colab": {}
      },
      "source": [
        "datadup=datadup.drop(indexes_of_null_rows,axis=0)"
      ],
      "execution_count": 0,
      "outputs": []
    },
    {
      "cell_type": "code",
      "metadata": {
        "id": "V6UOI9IRT4vR",
        "colab_type": "code",
        "outputId": "5b73b5f6-25cd-4a90-8387-94a43f467839",
        "colab": {
          "base_uri": "https://localhost:8080/",
          "height": 34
        }
      },
      "source": [
        "datadup.shape"
      ],
      "execution_count": 21,
      "outputs": [
        {
          "output_type": "execute_result",
          "data": {
            "text/plain": [
              "(1609642, 22)"
            ]
          },
          "metadata": {
            "tags": []
          },
          "execution_count": 21
        }
      ]
    },
    {
      "cell_type": "code",
      "metadata": {
        "id": "BfomKF9WJdmy",
        "colab_type": "code",
        "outputId": "3335a20a-36ad-43b3-e631-57416bbd5984",
        "colab": {
          "base_uri": "https://localhost:8080/",
          "height": 601
        }
      },
      "source": [
        "datadup.head()"
      ],
      "execution_count": 22,
      "outputs": [
        {
          "output_type": "execute_result",
          "data": {
            "text/html": [
              "<div>\n",
              "<style scoped>\n",
              "    .dataframe tbody tr th:only-of-type {\n",
              "        vertical-align: middle;\n",
              "    }\n",
              "\n",
              "    .dataframe tbody tr th {\n",
              "        vertical-align: top;\n",
              "    }\n",
              "\n",
              "    .dataframe thead th {\n",
              "        text-align: right;\n",
              "    }\n",
              "</style>\n",
              "<table border=\"1\" class=\"dataframe\">\n",
              "  <thead>\n",
              "    <tr style=\"text-align: right;\">\n",
              "      <th></th>\n",
              "      <th>ACCIDENT DATE</th>\n",
              "      <th>ACCIDENT TIME</th>\n",
              "      <th>BOROUGH</th>\n",
              "      <th>ZIP CODE</th>\n",
              "      <th>LATITUDE</th>\n",
              "      <th>LONGITUDE</th>\n",
              "      <th>LOCATION</th>\n",
              "      <th>ON STREET NAME</th>\n",
              "      <th>CROSS STREET NAME</th>\n",
              "      <th>NUMBER OF PERSONS INJURED</th>\n",
              "      <th>NUMBER OF PERSONS KILLED</th>\n",
              "      <th>NUMBER OF PEDESTRIANS INJURED</th>\n",
              "      <th>NUMBER OF PEDESTRIANS KILLED</th>\n",
              "      <th>NUMBER OF CYCLIST INJURED</th>\n",
              "      <th>NUMBER OF CYCLIST KILLED</th>\n",
              "      <th>NUMBER OF MOTORIST INJURED</th>\n",
              "      <th>NUMBER OF MOTORIST KILLED</th>\n",
              "      <th>CONTRIBUTING FACTOR VEHICLE 1</th>\n",
              "      <th>CONTRIBUTING FACTOR VEHICLE 2</th>\n",
              "      <th>COLLISION_ID</th>\n",
              "      <th>VEHICLE TYPE CODE 1</th>\n",
              "      <th>VEHICLE TYPE CODE 2</th>\n",
              "    </tr>\n",
              "  </thead>\n",
              "  <tbody>\n",
              "    <tr>\n",
              "      <th>0</th>\n",
              "      <td>2019-08-05T00:00:00.000</td>\n",
              "      <td>16:30</td>\n",
              "      <td>QUEENS</td>\n",
              "      <td>11434</td>\n",
              "      <td>40.676052</td>\n",
              "      <td>-73.790184</td>\n",
              "      <td>{'type': 'Point', 'coordinates': [-73.790184, ...</td>\n",
              "      <td>NaN</td>\n",
              "      <td>NaN</td>\n",
              "      <td>0.0</td>\n",
              "      <td>0.0</td>\n",
              "      <td>0</td>\n",
              "      <td>0</td>\n",
              "      <td>0</td>\n",
              "      <td>0</td>\n",
              "      <td>0</td>\n",
              "      <td>0</td>\n",
              "      <td>Passing Too Closely</td>\n",
              "      <td>Unspecified</td>\n",
              "      <td>4184637</td>\n",
              "      <td>Sedan</td>\n",
              "      <td>Pick-up Truck</td>\n",
              "    </tr>\n",
              "    <tr>\n",
              "      <th>1</th>\n",
              "      <td>2019-08-27T00:00:00.000</td>\n",
              "      <td>16:02</td>\n",
              "      <td>BROOKLYN</td>\n",
              "      <td>11225</td>\n",
              "      <td>40.657780</td>\n",
              "      <td>-73.951096</td>\n",
              "      <td>{'type': 'Point', 'coordinates': [-73.951096, ...</td>\n",
              "      <td>NaN</td>\n",
              "      <td>NaN</td>\n",
              "      <td>0.0</td>\n",
              "      <td>0.0</td>\n",
              "      <td>0</td>\n",
              "      <td>0</td>\n",
              "      <td>0</td>\n",
              "      <td>0</td>\n",
              "      <td>0</td>\n",
              "      <td>0</td>\n",
              "      <td>Passing Too Closely</td>\n",
              "      <td>Unspecified</td>\n",
              "      <td>4195773</td>\n",
              "      <td>Station Wagon/Sport Utility Vehicle</td>\n",
              "      <td>Station Wagon/Sport Utility Vehicle</td>\n",
              "    </tr>\n",
              "    <tr>\n",
              "      <th>2</th>\n",
              "      <td>2019-08-15T00:00:00.000</td>\n",
              "      <td>17:57</td>\n",
              "      <td>MANHATTAN</td>\n",
              "      <td>10002</td>\n",
              "      <td>40.718143</td>\n",
              "      <td>-73.993835</td>\n",
              "      <td>{'type': 'Point', 'coordinates': [-73.993835, ...</td>\n",
              "      <td>CHRYSTIE STREET</td>\n",
              "      <td>GRAND STREET</td>\n",
              "      <td>1.0</td>\n",
              "      <td>0.0</td>\n",
              "      <td>0</td>\n",
              "      <td>0</td>\n",
              "      <td>0</td>\n",
              "      <td>0</td>\n",
              "      <td>1</td>\n",
              "      <td>0</td>\n",
              "      <td>Driver Inattention/Distraction</td>\n",
              "      <td>NaN</td>\n",
              "      <td>4202457</td>\n",
              "      <td>Sedan</td>\n",
              "      <td>NaN</td>\n",
              "    </tr>\n",
              "    <tr>\n",
              "      <th>3</th>\n",
              "      <td>2019-08-30T00:00:00.000</td>\n",
              "      <td>21:53</td>\n",
              "      <td>BRONX</td>\n",
              "      <td>10460</td>\n",
              "      <td>40.840534</td>\n",
              "      <td>-73.866610</td>\n",
              "      <td>{'type': 'Point', 'coordinates': [-73.86661, 4...</td>\n",
              "      <td>NaN</td>\n",
              "      <td>NaN</td>\n",
              "      <td>0.0</td>\n",
              "      <td>0.0</td>\n",
              "      <td>0</td>\n",
              "      <td>0</td>\n",
              "      <td>0</td>\n",
              "      <td>0</td>\n",
              "      <td>0</td>\n",
              "      <td>0</td>\n",
              "      <td>Unspecified</td>\n",
              "      <td>Unspecified</td>\n",
              "      <td>4198749</td>\n",
              "      <td>Taxi</td>\n",
              "      <td>Station Wagon/Sport Utility Vehicle</td>\n",
              "    </tr>\n",
              "    <tr>\n",
              "      <th>4</th>\n",
              "      <td>2019-08-06T00:00:00.000</td>\n",
              "      <td>9:45</td>\n",
              "      <td>MANHATTAN</td>\n",
              "      <td>10016</td>\n",
              "      <td>40.745440</td>\n",
              "      <td>-73.975400</td>\n",
              "      <td>{'type': 'Point', 'coordinates': [-73.9754, 40...</td>\n",
              "      <td>EAST 35 STREET</td>\n",
              "      <td>2 AVENUE</td>\n",
              "      <td>1.0</td>\n",
              "      <td>0.0</td>\n",
              "      <td>0</td>\n",
              "      <td>0</td>\n",
              "      <td>1</td>\n",
              "      <td>0</td>\n",
              "      <td>0</td>\n",
              "      <td>0</td>\n",
              "      <td>Driver Inattention/Distraction</td>\n",
              "      <td>Driver Inattention/Distraction</td>\n",
              "      <td>4183798</td>\n",
              "      <td>Station Wagon/Sport Utility Vehicle</td>\n",
              "      <td>Bike</td>\n",
              "    </tr>\n",
              "  </tbody>\n",
              "</table>\n",
              "</div>"
            ],
            "text/plain": [
              "             ACCIDENT DATE  ...                  VEHICLE TYPE CODE 2\n",
              "0  2019-08-05T00:00:00.000  ...                        Pick-up Truck\n",
              "1  2019-08-27T00:00:00.000  ...  Station Wagon/Sport Utility Vehicle\n",
              "2  2019-08-15T00:00:00.000  ...                                  NaN\n",
              "3  2019-08-30T00:00:00.000  ...  Station Wagon/Sport Utility Vehicle\n",
              "4  2019-08-06T00:00:00.000  ...                                 Bike\n",
              "\n",
              "[5 rows x 22 columns]"
            ]
          },
          "metadata": {
            "tags": []
          },
          "execution_count": 22
        }
      ]
    },
    {
      "cell_type": "code",
      "metadata": {
        "id": "yWIjuYx_JrHT",
        "colab_type": "code",
        "outputId": "0244b711-e21d-4d80-e495-a5c033ac5c90",
        "colab": {
          "base_uri": "https://localhost:8080/",
          "height": 176
        }
      },
      "source": [
        "datadup.columns"
      ],
      "execution_count": 23,
      "outputs": [
        {
          "output_type": "execute_result",
          "data": {
            "text/plain": [
              "Index(['ACCIDENT DATE', 'ACCIDENT TIME', 'BOROUGH', 'ZIP CODE', 'LATITUDE',\n",
              "       'LONGITUDE', 'LOCATION', 'ON STREET NAME', 'CROSS STREET NAME',\n",
              "       'NUMBER OF PERSONS INJURED', 'NUMBER OF PERSONS KILLED',\n",
              "       'NUMBER OF PEDESTRIANS INJURED', 'NUMBER OF PEDESTRIANS KILLED',\n",
              "       'NUMBER OF CYCLIST INJURED', 'NUMBER OF CYCLIST KILLED',\n",
              "       'NUMBER OF MOTORIST INJURED', 'NUMBER OF MOTORIST KILLED',\n",
              "       'CONTRIBUTING FACTOR VEHICLE 1', 'CONTRIBUTING FACTOR VEHICLE 2',\n",
              "       'COLLISION_ID', 'VEHICLE TYPE CODE 1', 'VEHICLE TYPE CODE 2'],\n",
              "      dtype='object')"
            ]
          },
          "metadata": {
            "tags": []
          },
          "execution_count": 23
        }
      ]
    },
    {
      "cell_type": "code",
      "metadata": {
        "id": "mn7w9XkaO2kU",
        "colab_type": "code",
        "colab": {}
      },
      "source": [
        "sorted_data = datadup[['ACCIDENT DATE', 'ACCIDENT TIME','BOROUGH','ZIP CODE','CONTRIBUTING FACTOR VEHICLE 1','CONTRIBUTING FACTOR VEHICLE 2','LATITUDE','LONGITUDE']]\n"
      ],
      "execution_count": 0,
      "outputs": []
    },
    {
      "cell_type": "code",
      "metadata": {
        "id": "GsLuzSg0PYhX",
        "colab_type": "code",
        "outputId": "456894fc-5bd2-4b65-bdde-e599e9eb6cf7",
        "colab": {
          "base_uri": "https://localhost:8080/",
          "height": 406
        }
      },
      "source": [
        "\n",
        "sorted_data"
      ],
      "execution_count": 25,
      "outputs": [
        {
          "output_type": "execute_result",
          "data": {
            "text/html": [
              "<div>\n",
              "<style scoped>\n",
              "    .dataframe tbody tr th:only-of-type {\n",
              "        vertical-align: middle;\n",
              "    }\n",
              "\n",
              "    .dataframe tbody tr th {\n",
              "        vertical-align: top;\n",
              "    }\n",
              "\n",
              "    .dataframe thead th {\n",
              "        text-align: right;\n",
              "    }\n",
              "</style>\n",
              "<table border=\"1\" class=\"dataframe\">\n",
              "  <thead>\n",
              "    <tr style=\"text-align: right;\">\n",
              "      <th></th>\n",
              "      <th>ACCIDENT DATE</th>\n",
              "      <th>ACCIDENT TIME</th>\n",
              "      <th>BOROUGH</th>\n",
              "      <th>ZIP CODE</th>\n",
              "      <th>CONTRIBUTING FACTOR VEHICLE 1</th>\n",
              "      <th>CONTRIBUTING FACTOR VEHICLE 2</th>\n",
              "      <th>LATITUDE</th>\n",
              "      <th>LONGITUDE</th>\n",
              "    </tr>\n",
              "  </thead>\n",
              "  <tbody>\n",
              "    <tr>\n",
              "      <th>0</th>\n",
              "      <td>2019-08-05T00:00:00.000</td>\n",
              "      <td>16:30</td>\n",
              "      <td>QUEENS</td>\n",
              "      <td>11434</td>\n",
              "      <td>Passing Too Closely</td>\n",
              "      <td>Unspecified</td>\n",
              "      <td>40.676052</td>\n",
              "      <td>-73.790184</td>\n",
              "    </tr>\n",
              "    <tr>\n",
              "      <th>1</th>\n",
              "      <td>2019-08-27T00:00:00.000</td>\n",
              "      <td>16:02</td>\n",
              "      <td>BROOKLYN</td>\n",
              "      <td>11225</td>\n",
              "      <td>Passing Too Closely</td>\n",
              "      <td>Unspecified</td>\n",
              "      <td>40.657780</td>\n",
              "      <td>-73.951096</td>\n",
              "    </tr>\n",
              "    <tr>\n",
              "      <th>2</th>\n",
              "      <td>2019-08-15T00:00:00.000</td>\n",
              "      <td>17:57</td>\n",
              "      <td>MANHATTAN</td>\n",
              "      <td>10002</td>\n",
              "      <td>Driver Inattention/Distraction</td>\n",
              "      <td>NaN</td>\n",
              "      <td>40.718143</td>\n",
              "      <td>-73.993835</td>\n",
              "    </tr>\n",
              "    <tr>\n",
              "      <th>3</th>\n",
              "      <td>2019-08-30T00:00:00.000</td>\n",
              "      <td>21:53</td>\n",
              "      <td>BRONX</td>\n",
              "      <td>10460</td>\n",
              "      <td>Unspecified</td>\n",
              "      <td>Unspecified</td>\n",
              "      <td>40.840534</td>\n",
              "      <td>-73.866610</td>\n",
              "    </tr>\n",
              "    <tr>\n",
              "      <th>4</th>\n",
              "      <td>2019-08-06T00:00:00.000</td>\n",
              "      <td>9:45</td>\n",
              "      <td>MANHATTAN</td>\n",
              "      <td>10016</td>\n",
              "      <td>Driver Inattention/Distraction</td>\n",
              "      <td>Driver Inattention/Distraction</td>\n",
              "      <td>40.745440</td>\n",
              "      <td>-73.975400</td>\n",
              "    </tr>\n",
              "    <tr>\n",
              "      <th>...</th>\n",
              "      <td>...</td>\n",
              "      <td>...</td>\n",
              "      <td>...</td>\n",
              "      <td>...</td>\n",
              "      <td>...</td>\n",
              "      <td>...</td>\n",
              "      <td>...</td>\n",
              "      <td>...</td>\n",
              "    </tr>\n",
              "    <tr>\n",
              "      <th>1612173</th>\n",
              "      <td>2012-07-21T00:00:00.000</td>\n",
              "      <td>22:46</td>\n",
              "      <td>BROOKLYN</td>\n",
              "      <td>11226</td>\n",
              "      <td>Traffic Control Disregarded</td>\n",
              "      <td>Unspecified</td>\n",
              "      <td>40.651741</td>\n",
              "      <td>-73.965241</td>\n",
              "    </tr>\n",
              "    <tr>\n",
              "      <th>1612174</th>\n",
              "      <td>2012-07-09T00:00:00.000</td>\n",
              "      <td>16:45</td>\n",
              "      <td>NaN</td>\n",
              "      <td>NaN</td>\n",
              "      <td>Fatigued/Drowsy</td>\n",
              "      <td>Fatigued/Drowsy</td>\n",
              "      <td>NaN</td>\n",
              "      <td>NaN</td>\n",
              "    </tr>\n",
              "    <tr>\n",
              "      <th>1612175</th>\n",
              "      <td>2012-07-09T00:00:00.000</td>\n",
              "      <td>14:35</td>\n",
              "      <td>NaN</td>\n",
              "      <td>NaN</td>\n",
              "      <td>Fatigued/Drowsy</td>\n",
              "      <td>Unspecified</td>\n",
              "      <td>40.791492</td>\n",
              "      <td>-73.935763</td>\n",
              "    </tr>\n",
              "    <tr>\n",
              "      <th>1612176</th>\n",
              "      <td>2012-07-18T00:00:00.000</td>\n",
              "      <td>9:20</td>\n",
              "      <td>MANHATTAN</td>\n",
              "      <td>10024</td>\n",
              "      <td>Driver Inattention/Distraction</td>\n",
              "      <td>Unspecified</td>\n",
              "      <td>40.779479</td>\n",
              "      <td>-73.973573</td>\n",
              "    </tr>\n",
              "    <tr>\n",
              "      <th>1612177</th>\n",
              "      <td>2012-07-12T00:00:00.000</td>\n",
              "      <td>3:10</td>\n",
              "      <td>QUEENS</td>\n",
              "      <td>11361</td>\n",
              "      <td>Unspecified</td>\n",
              "      <td>NaN</td>\n",
              "      <td>40.762501</td>\n",
              "      <td>-73.782522</td>\n",
              "    </tr>\n",
              "  </tbody>\n",
              "</table>\n",
              "<p>1609642 rows × 8 columns</p>\n",
              "</div>"
            ],
            "text/plain": [
              "                   ACCIDENT DATE ACCIDENT TIME  ...   LATITUDE  LONGITUDE\n",
              "0        2019-08-05T00:00:00.000         16:30  ...  40.676052 -73.790184\n",
              "1        2019-08-27T00:00:00.000         16:02  ...  40.657780 -73.951096\n",
              "2        2019-08-15T00:00:00.000         17:57  ...  40.718143 -73.993835\n",
              "3        2019-08-30T00:00:00.000         21:53  ...  40.840534 -73.866610\n",
              "4        2019-08-06T00:00:00.000          9:45  ...  40.745440 -73.975400\n",
              "...                          ...           ...  ...        ...        ...\n",
              "1612173  2012-07-21T00:00:00.000         22:46  ...  40.651741 -73.965241\n",
              "1612174  2012-07-09T00:00:00.000         16:45  ...        NaN        NaN\n",
              "1612175  2012-07-09T00:00:00.000         14:35  ...  40.791492 -73.935763\n",
              "1612176  2012-07-18T00:00:00.000          9:20  ...  40.779479 -73.973573\n",
              "1612177  2012-07-12T00:00:00.000          3:10  ...  40.762501 -73.782522\n",
              "\n",
              "[1609642 rows x 8 columns]"
            ]
          },
          "metadata": {
            "tags": []
          },
          "execution_count": 25
        }
      ]
    },
    {
      "cell_type": "code",
      "metadata": {
        "id": "A4AxEOD0OtRi",
        "colab_type": "code",
        "outputId": "751bd68f-83ff-4997-ecd8-957ebbfae20a",
        "colab": {
          "base_uri": "https://localhost:8080/",
          "height": 87
        }
      },
      "source": [
        "\n",
        "\n",
        "sorted_data.columns"
      ],
      "execution_count": 26,
      "outputs": [
        {
          "output_type": "execute_result",
          "data": {
            "text/plain": [
              "Index(['ACCIDENT DATE', 'ACCIDENT TIME', 'BOROUGH', 'ZIP CODE',\n",
              "       'CONTRIBUTING FACTOR VEHICLE 1', 'CONTRIBUTING FACTOR VEHICLE 2',\n",
              "       'LATITUDE', 'LONGITUDE'],\n",
              "      dtype='object')"
            ]
          },
          "metadata": {
            "tags": []
          },
          "execution_count": 26
        }
      ]
    },
    {
      "cell_type": "code",
      "metadata": {
        "id": "NlFXa9-lPXlp",
        "colab_type": "code",
        "colab": {}
      },
      "source": [
        "datadup=datadup.rename(columns = {\"NUMBER OF PERSONS KILLED\": \"killed\", \n",
        "                     \"NUMBER OF PEDESTRIANS KILLED\":\"PEDESTRIANS_KILLED\",'NUMBER OF CYCLIST KILLED':'CYCLIST_KILLED','NUMBER OF MOTORIST KILLED':'MOTORIST_KILLED'}) "
      ],
      "execution_count": 0,
      "outputs": []
    },
    {
      "cell_type": "code",
      "metadata": {
        "id": "HOi2LhGDTXrR",
        "colab_type": "code",
        "outputId": "10b2985f-c621-4703-e313-09071ca4186d",
        "colab": {
          "base_uri": "https://localhost:8080/",
          "height": 601
        }
      },
      "source": [
        "datadup.head()"
      ],
      "execution_count": 28,
      "outputs": [
        {
          "output_type": "execute_result",
          "data": {
            "text/html": [
              "<div>\n",
              "<style scoped>\n",
              "    .dataframe tbody tr th:only-of-type {\n",
              "        vertical-align: middle;\n",
              "    }\n",
              "\n",
              "    .dataframe tbody tr th {\n",
              "        vertical-align: top;\n",
              "    }\n",
              "\n",
              "    .dataframe thead th {\n",
              "        text-align: right;\n",
              "    }\n",
              "</style>\n",
              "<table border=\"1\" class=\"dataframe\">\n",
              "  <thead>\n",
              "    <tr style=\"text-align: right;\">\n",
              "      <th></th>\n",
              "      <th>ACCIDENT DATE</th>\n",
              "      <th>ACCIDENT TIME</th>\n",
              "      <th>BOROUGH</th>\n",
              "      <th>ZIP CODE</th>\n",
              "      <th>LATITUDE</th>\n",
              "      <th>LONGITUDE</th>\n",
              "      <th>LOCATION</th>\n",
              "      <th>ON STREET NAME</th>\n",
              "      <th>CROSS STREET NAME</th>\n",
              "      <th>NUMBER OF PERSONS INJURED</th>\n",
              "      <th>killed</th>\n",
              "      <th>NUMBER OF PEDESTRIANS INJURED</th>\n",
              "      <th>PEDESTRIANS_KILLED</th>\n",
              "      <th>NUMBER OF CYCLIST INJURED</th>\n",
              "      <th>CYCLIST_KILLED</th>\n",
              "      <th>NUMBER OF MOTORIST INJURED</th>\n",
              "      <th>MOTORIST_KILLED</th>\n",
              "      <th>CONTRIBUTING FACTOR VEHICLE 1</th>\n",
              "      <th>CONTRIBUTING FACTOR VEHICLE 2</th>\n",
              "      <th>COLLISION_ID</th>\n",
              "      <th>VEHICLE TYPE CODE 1</th>\n",
              "      <th>VEHICLE TYPE CODE 2</th>\n",
              "    </tr>\n",
              "  </thead>\n",
              "  <tbody>\n",
              "    <tr>\n",
              "      <th>0</th>\n",
              "      <td>2019-08-05T00:00:00.000</td>\n",
              "      <td>16:30</td>\n",
              "      <td>QUEENS</td>\n",
              "      <td>11434</td>\n",
              "      <td>40.676052</td>\n",
              "      <td>-73.790184</td>\n",
              "      <td>{'type': 'Point', 'coordinates': [-73.790184, ...</td>\n",
              "      <td>NaN</td>\n",
              "      <td>NaN</td>\n",
              "      <td>0.0</td>\n",
              "      <td>0.0</td>\n",
              "      <td>0</td>\n",
              "      <td>0</td>\n",
              "      <td>0</td>\n",
              "      <td>0</td>\n",
              "      <td>0</td>\n",
              "      <td>0</td>\n",
              "      <td>Passing Too Closely</td>\n",
              "      <td>Unspecified</td>\n",
              "      <td>4184637</td>\n",
              "      <td>Sedan</td>\n",
              "      <td>Pick-up Truck</td>\n",
              "    </tr>\n",
              "    <tr>\n",
              "      <th>1</th>\n",
              "      <td>2019-08-27T00:00:00.000</td>\n",
              "      <td>16:02</td>\n",
              "      <td>BROOKLYN</td>\n",
              "      <td>11225</td>\n",
              "      <td>40.657780</td>\n",
              "      <td>-73.951096</td>\n",
              "      <td>{'type': 'Point', 'coordinates': [-73.951096, ...</td>\n",
              "      <td>NaN</td>\n",
              "      <td>NaN</td>\n",
              "      <td>0.0</td>\n",
              "      <td>0.0</td>\n",
              "      <td>0</td>\n",
              "      <td>0</td>\n",
              "      <td>0</td>\n",
              "      <td>0</td>\n",
              "      <td>0</td>\n",
              "      <td>0</td>\n",
              "      <td>Passing Too Closely</td>\n",
              "      <td>Unspecified</td>\n",
              "      <td>4195773</td>\n",
              "      <td>Station Wagon/Sport Utility Vehicle</td>\n",
              "      <td>Station Wagon/Sport Utility Vehicle</td>\n",
              "    </tr>\n",
              "    <tr>\n",
              "      <th>2</th>\n",
              "      <td>2019-08-15T00:00:00.000</td>\n",
              "      <td>17:57</td>\n",
              "      <td>MANHATTAN</td>\n",
              "      <td>10002</td>\n",
              "      <td>40.718143</td>\n",
              "      <td>-73.993835</td>\n",
              "      <td>{'type': 'Point', 'coordinates': [-73.993835, ...</td>\n",
              "      <td>CHRYSTIE STREET</td>\n",
              "      <td>GRAND STREET</td>\n",
              "      <td>1.0</td>\n",
              "      <td>0.0</td>\n",
              "      <td>0</td>\n",
              "      <td>0</td>\n",
              "      <td>0</td>\n",
              "      <td>0</td>\n",
              "      <td>1</td>\n",
              "      <td>0</td>\n",
              "      <td>Driver Inattention/Distraction</td>\n",
              "      <td>NaN</td>\n",
              "      <td>4202457</td>\n",
              "      <td>Sedan</td>\n",
              "      <td>NaN</td>\n",
              "    </tr>\n",
              "    <tr>\n",
              "      <th>3</th>\n",
              "      <td>2019-08-30T00:00:00.000</td>\n",
              "      <td>21:53</td>\n",
              "      <td>BRONX</td>\n",
              "      <td>10460</td>\n",
              "      <td>40.840534</td>\n",
              "      <td>-73.866610</td>\n",
              "      <td>{'type': 'Point', 'coordinates': [-73.86661, 4...</td>\n",
              "      <td>NaN</td>\n",
              "      <td>NaN</td>\n",
              "      <td>0.0</td>\n",
              "      <td>0.0</td>\n",
              "      <td>0</td>\n",
              "      <td>0</td>\n",
              "      <td>0</td>\n",
              "      <td>0</td>\n",
              "      <td>0</td>\n",
              "      <td>0</td>\n",
              "      <td>Unspecified</td>\n",
              "      <td>Unspecified</td>\n",
              "      <td>4198749</td>\n",
              "      <td>Taxi</td>\n",
              "      <td>Station Wagon/Sport Utility Vehicle</td>\n",
              "    </tr>\n",
              "    <tr>\n",
              "      <th>4</th>\n",
              "      <td>2019-08-06T00:00:00.000</td>\n",
              "      <td>9:45</td>\n",
              "      <td>MANHATTAN</td>\n",
              "      <td>10016</td>\n",
              "      <td>40.745440</td>\n",
              "      <td>-73.975400</td>\n",
              "      <td>{'type': 'Point', 'coordinates': [-73.9754, 40...</td>\n",
              "      <td>EAST 35 STREET</td>\n",
              "      <td>2 AVENUE</td>\n",
              "      <td>1.0</td>\n",
              "      <td>0.0</td>\n",
              "      <td>0</td>\n",
              "      <td>0</td>\n",
              "      <td>1</td>\n",
              "      <td>0</td>\n",
              "      <td>0</td>\n",
              "      <td>0</td>\n",
              "      <td>Driver Inattention/Distraction</td>\n",
              "      <td>Driver Inattention/Distraction</td>\n",
              "      <td>4183798</td>\n",
              "      <td>Station Wagon/Sport Utility Vehicle</td>\n",
              "      <td>Bike</td>\n",
              "    </tr>\n",
              "  </tbody>\n",
              "</table>\n",
              "</div>"
            ],
            "text/plain": [
              "             ACCIDENT DATE  ...                  VEHICLE TYPE CODE 2\n",
              "0  2019-08-05T00:00:00.000  ...                        Pick-up Truck\n",
              "1  2019-08-27T00:00:00.000  ...  Station Wagon/Sport Utility Vehicle\n",
              "2  2019-08-15T00:00:00.000  ...                                  NaN\n",
              "3  2019-08-30T00:00:00.000  ...  Station Wagon/Sport Utility Vehicle\n",
              "4  2019-08-06T00:00:00.000  ...                                 Bike\n",
              "\n",
              "[5 rows x 22 columns]"
            ]
          },
          "metadata": {
            "tags": []
          },
          "execution_count": 28
        }
      ]
    },
    {
      "cell_type": "code",
      "metadata": {
        "id": "oFGMYxsPQ6Iv",
        "colab_type": "code",
        "colab": {}
      },
      "source": [
        "sorted_data['killed'] = datadup.killed+datadup.PEDESTRIANS_KILLED+datadup.CYCLIST_KILLED+datadup.MOTORIST_KILLED"
      ],
      "execution_count": 0,
      "outputs": []
    },
    {
      "cell_type": "code",
      "metadata": {
        "id": "FHry_fQoTCYJ",
        "colab_type": "code",
        "colab": {}
      },
      "source": [
        ""
      ],
      "execution_count": 0,
      "outputs": []
    },
    {
      "cell_type": "code",
      "metadata": {
        "id": "wFXl942wVLZE",
        "colab_type": "code",
        "colab": {}
      },
      "source": [
        "datadup\n",
        "datadup['ACCIDENT DATE'] = pd.to_datetime(datadup['ACCIDENT DATE'])\n"
      ],
      "execution_count": 0,
      "outputs": []
    },
    {
      "cell_type": "code",
      "metadata": {
        "id": "QstxoPoQVhq7",
        "colab_type": "code",
        "colab": {}
      },
      "source": [
        "import datetime as dt\n",
        "currentyear = dt.datetime.now().year\n",
        "collisionyear = pd.DatetimeIndex(datadup['ACCIDENT DATE']).year"
      ],
      "execution_count": 0,
      "outputs": []
    },
    {
      "cell_type": "code",
      "metadata": {
        "id": "Pf3UwkvgV0do",
        "colab_type": "code",
        "outputId": "591b0b77-e62c-4808-f7d1-53f5d6fb9d0a",
        "colab": {
          "base_uri": "https://localhost:8080/",
          "height": 87
        }
      },
      "source": [
        " collisionyear"
      ],
      "execution_count": 32,
      "outputs": [
        {
          "output_type": "execute_result",
          "data": {
            "text/plain": [
              "Int64Index([2019, 2019, 2019, 2019, 2019, 2019, 2019, 2019, 2019, 2019,\n",
              "            ...\n",
              "            2012, 2012, 2012, 2012, 2012, 2012, 2012, 2012, 2012, 2012],\n",
              "           dtype='int64', name='ACCIDENT DATE', length=1609642)"
            ]
          },
          "metadata": {
            "tags": []
          },
          "execution_count": 32
        }
      ]
    },
    {
      "cell_type": "code",
      "metadata": {
        "id": "VYfEsrwsYeyG",
        "colab_type": "code",
        "outputId": "51b34d69-9905-4877-e359-d995792a9cd3",
        "colab": {
          "base_uri": "https://localhost:8080/",
          "height": 158
        }
      },
      "source": [
        "datadup.columns"
      ],
      "execution_count": 33,
      "outputs": [
        {
          "output_type": "execute_result",
          "data": {
            "text/plain": [
              "Index(['ACCIDENT DATE', 'ACCIDENT TIME', 'BOROUGH', 'ZIP CODE', 'LATITUDE',\n",
              "       'LONGITUDE', 'LOCATION', 'ON STREET NAME', 'CROSS STREET NAME',\n",
              "       'NUMBER OF PERSONS INJURED', 'killed', 'NUMBER OF PEDESTRIANS INJURED',\n",
              "       'PEDESTRIANS_KILLED', 'NUMBER OF CYCLIST INJURED', 'CYCLIST_KILLED',\n",
              "       'NUMBER OF MOTORIST INJURED', 'MOTORIST_KILLED',\n",
              "       'CONTRIBUTING FACTOR VEHICLE 1', 'CONTRIBUTING FACTOR VEHICLE 2',\n",
              "       'COLLISION_ID', 'VEHICLE TYPE CODE 1', 'VEHICLE TYPE CODE 2'],\n",
              "      dtype='object')"
            ]
          },
          "metadata": {
            "tags": []
          },
          "execution_count": 33
        }
      ]
    },
    {
      "cell_type": "code",
      "metadata": {
        "id": "vKkguNAvYIez",
        "colab_type": "code",
        "colab": {}
      },
      "source": [
        "datadup=datadup.rename(columns = {\"NUMBER OF PERSONS INJURED\": \"injured\", \n",
        "                     \"NUMBER OF PEDESTRIANS INJURED\":\"PEDESTRIANS_INJURED\",'NUMBER OF CYCLIST INJURED':'CYCLIST_INJURED','NUMBER OF MOTORIST INJURED':'MOTORIST_INJURED'}) "
      ],
      "execution_count": 0,
      "outputs": []
    },
    {
      "cell_type": "code",
      "metadata": {
        "id": "SrlKVRTPZIMb",
        "colab_type": "code",
        "outputId": "5cc64f4e-4186-473a-8bbd-a4a3acd9195b",
        "colab": {
          "base_uri": "https://localhost:8080/",
          "height": 826
        }
      },
      "source": [
        "datadup"
      ],
      "execution_count": 35,
      "outputs": [
        {
          "output_type": "execute_result",
          "data": {
            "text/html": [
              "<div>\n",
              "<style scoped>\n",
              "    .dataframe tbody tr th:only-of-type {\n",
              "        vertical-align: middle;\n",
              "    }\n",
              "\n",
              "    .dataframe tbody tr th {\n",
              "        vertical-align: top;\n",
              "    }\n",
              "\n",
              "    .dataframe thead th {\n",
              "        text-align: right;\n",
              "    }\n",
              "</style>\n",
              "<table border=\"1\" class=\"dataframe\">\n",
              "  <thead>\n",
              "    <tr style=\"text-align: right;\">\n",
              "      <th></th>\n",
              "      <th>ACCIDENT DATE</th>\n",
              "      <th>ACCIDENT TIME</th>\n",
              "      <th>BOROUGH</th>\n",
              "      <th>ZIP CODE</th>\n",
              "      <th>LATITUDE</th>\n",
              "      <th>LONGITUDE</th>\n",
              "      <th>LOCATION</th>\n",
              "      <th>ON STREET NAME</th>\n",
              "      <th>CROSS STREET NAME</th>\n",
              "      <th>injured</th>\n",
              "      <th>killed</th>\n",
              "      <th>PEDESTRIANS_INJURED</th>\n",
              "      <th>PEDESTRIANS_KILLED</th>\n",
              "      <th>CYCLIST_INJURED</th>\n",
              "      <th>CYCLIST_KILLED</th>\n",
              "      <th>MOTORIST_INJURED</th>\n",
              "      <th>MOTORIST_KILLED</th>\n",
              "      <th>CONTRIBUTING FACTOR VEHICLE 1</th>\n",
              "      <th>CONTRIBUTING FACTOR VEHICLE 2</th>\n",
              "      <th>COLLISION_ID</th>\n",
              "      <th>VEHICLE TYPE CODE 1</th>\n",
              "      <th>VEHICLE TYPE CODE 2</th>\n",
              "    </tr>\n",
              "  </thead>\n",
              "  <tbody>\n",
              "    <tr>\n",
              "      <th>0</th>\n",
              "      <td>2019-08-05</td>\n",
              "      <td>16:30</td>\n",
              "      <td>QUEENS</td>\n",
              "      <td>11434</td>\n",
              "      <td>40.676052</td>\n",
              "      <td>-73.790184</td>\n",
              "      <td>{'type': 'Point', 'coordinates': [-73.790184, ...</td>\n",
              "      <td>NaN</td>\n",
              "      <td>NaN</td>\n",
              "      <td>0.0</td>\n",
              "      <td>0.0</td>\n",
              "      <td>0</td>\n",
              "      <td>0</td>\n",
              "      <td>0</td>\n",
              "      <td>0</td>\n",
              "      <td>0</td>\n",
              "      <td>0</td>\n",
              "      <td>Passing Too Closely</td>\n",
              "      <td>Unspecified</td>\n",
              "      <td>4184637</td>\n",
              "      <td>Sedan</td>\n",
              "      <td>Pick-up Truck</td>\n",
              "    </tr>\n",
              "    <tr>\n",
              "      <th>1</th>\n",
              "      <td>2019-08-27</td>\n",
              "      <td>16:02</td>\n",
              "      <td>BROOKLYN</td>\n",
              "      <td>11225</td>\n",
              "      <td>40.657780</td>\n",
              "      <td>-73.951096</td>\n",
              "      <td>{'type': 'Point', 'coordinates': [-73.951096, ...</td>\n",
              "      <td>NaN</td>\n",
              "      <td>NaN</td>\n",
              "      <td>0.0</td>\n",
              "      <td>0.0</td>\n",
              "      <td>0</td>\n",
              "      <td>0</td>\n",
              "      <td>0</td>\n",
              "      <td>0</td>\n",
              "      <td>0</td>\n",
              "      <td>0</td>\n",
              "      <td>Passing Too Closely</td>\n",
              "      <td>Unspecified</td>\n",
              "      <td>4195773</td>\n",
              "      <td>Station Wagon/Sport Utility Vehicle</td>\n",
              "      <td>Station Wagon/Sport Utility Vehicle</td>\n",
              "    </tr>\n",
              "    <tr>\n",
              "      <th>2</th>\n",
              "      <td>2019-08-15</td>\n",
              "      <td>17:57</td>\n",
              "      <td>MANHATTAN</td>\n",
              "      <td>10002</td>\n",
              "      <td>40.718143</td>\n",
              "      <td>-73.993835</td>\n",
              "      <td>{'type': 'Point', 'coordinates': [-73.993835, ...</td>\n",
              "      <td>CHRYSTIE STREET</td>\n",
              "      <td>GRAND STREET</td>\n",
              "      <td>1.0</td>\n",
              "      <td>0.0</td>\n",
              "      <td>0</td>\n",
              "      <td>0</td>\n",
              "      <td>0</td>\n",
              "      <td>0</td>\n",
              "      <td>1</td>\n",
              "      <td>0</td>\n",
              "      <td>Driver Inattention/Distraction</td>\n",
              "      <td>NaN</td>\n",
              "      <td>4202457</td>\n",
              "      <td>Sedan</td>\n",
              "      <td>NaN</td>\n",
              "    </tr>\n",
              "    <tr>\n",
              "      <th>3</th>\n",
              "      <td>2019-08-30</td>\n",
              "      <td>21:53</td>\n",
              "      <td>BRONX</td>\n",
              "      <td>10460</td>\n",
              "      <td>40.840534</td>\n",
              "      <td>-73.866610</td>\n",
              "      <td>{'type': 'Point', 'coordinates': [-73.86661, 4...</td>\n",
              "      <td>NaN</td>\n",
              "      <td>NaN</td>\n",
              "      <td>0.0</td>\n",
              "      <td>0.0</td>\n",
              "      <td>0</td>\n",
              "      <td>0</td>\n",
              "      <td>0</td>\n",
              "      <td>0</td>\n",
              "      <td>0</td>\n",
              "      <td>0</td>\n",
              "      <td>Unspecified</td>\n",
              "      <td>Unspecified</td>\n",
              "      <td>4198749</td>\n",
              "      <td>Taxi</td>\n",
              "      <td>Station Wagon/Sport Utility Vehicle</td>\n",
              "    </tr>\n",
              "    <tr>\n",
              "      <th>4</th>\n",
              "      <td>2019-08-06</td>\n",
              "      <td>9:45</td>\n",
              "      <td>MANHATTAN</td>\n",
              "      <td>10016</td>\n",
              "      <td>40.745440</td>\n",
              "      <td>-73.975400</td>\n",
              "      <td>{'type': 'Point', 'coordinates': [-73.9754, 40...</td>\n",
              "      <td>EAST 35 STREET</td>\n",
              "      <td>2 AVENUE</td>\n",
              "      <td>1.0</td>\n",
              "      <td>0.0</td>\n",
              "      <td>0</td>\n",
              "      <td>0</td>\n",
              "      <td>1</td>\n",
              "      <td>0</td>\n",
              "      <td>0</td>\n",
              "      <td>0</td>\n",
              "      <td>Driver Inattention/Distraction</td>\n",
              "      <td>Driver Inattention/Distraction</td>\n",
              "      <td>4183798</td>\n",
              "      <td>Station Wagon/Sport Utility Vehicle</td>\n",
              "      <td>Bike</td>\n",
              "    </tr>\n",
              "    <tr>\n",
              "      <th>...</th>\n",
              "      <td>...</td>\n",
              "      <td>...</td>\n",
              "      <td>...</td>\n",
              "      <td>...</td>\n",
              "      <td>...</td>\n",
              "      <td>...</td>\n",
              "      <td>...</td>\n",
              "      <td>...</td>\n",
              "      <td>...</td>\n",
              "      <td>...</td>\n",
              "      <td>...</td>\n",
              "      <td>...</td>\n",
              "      <td>...</td>\n",
              "      <td>...</td>\n",
              "      <td>...</td>\n",
              "      <td>...</td>\n",
              "      <td>...</td>\n",
              "      <td>...</td>\n",
              "      <td>...</td>\n",
              "      <td>...</td>\n",
              "      <td>...</td>\n",
              "      <td>...</td>\n",
              "    </tr>\n",
              "    <tr>\n",
              "      <th>1612173</th>\n",
              "      <td>2012-07-21</td>\n",
              "      <td>22:46</td>\n",
              "      <td>BROOKLYN</td>\n",
              "      <td>11226</td>\n",
              "      <td>40.651741</td>\n",
              "      <td>-73.965241</td>\n",
              "      <td>{'type': 'Point', 'coordinates': [-73.9652409,...</td>\n",
              "      <td>PARADE PLACE</td>\n",
              "      <td>CROOKE AVENUE</td>\n",
              "      <td>0.0</td>\n",
              "      <td>0.0</td>\n",
              "      <td>0</td>\n",
              "      <td>0</td>\n",
              "      <td>0</td>\n",
              "      <td>0</td>\n",
              "      <td>0</td>\n",
              "      <td>0</td>\n",
              "      <td>Traffic Control Disregarded</td>\n",
              "      <td>Unspecified</td>\n",
              "      <td>147595</td>\n",
              "      <td>SPORT UTILITY / STATION WAGON</td>\n",
              "      <td>UNKNOWN</td>\n",
              "    </tr>\n",
              "    <tr>\n",
              "      <th>1612174</th>\n",
              "      <td>2012-07-09</td>\n",
              "      <td>16:45</td>\n",
              "      <td>NaN</td>\n",
              "      <td>NaN</td>\n",
              "      <td>NaN</td>\n",
              "      <td>NaN</td>\n",
              "      <td>NaN</td>\n",
              "      <td>EDWARD L GRANT HIGHWAY</td>\n",
              "      <td>WEST 169 STREET</td>\n",
              "      <td>5.0</td>\n",
              "      <td>0.0</td>\n",
              "      <td>0</td>\n",
              "      <td>0</td>\n",
              "      <td>0</td>\n",
              "      <td>0</td>\n",
              "      <td>5</td>\n",
              "      <td>0</td>\n",
              "      <td>Fatigued/Drowsy</td>\n",
              "      <td>Fatigued/Drowsy</td>\n",
              "      <td>85220</td>\n",
              "      <td>PASSENGER VEHICLE</td>\n",
              "      <td>LIVERY VEHICLE</td>\n",
              "    </tr>\n",
              "    <tr>\n",
              "      <th>1612175</th>\n",
              "      <td>2012-07-09</td>\n",
              "      <td>14:35</td>\n",
              "      <td>NaN</td>\n",
              "      <td>NaN</td>\n",
              "      <td>40.791492</td>\n",
              "      <td>-73.935763</td>\n",
              "      <td>{'type': 'Point', 'coordinates': [-73.935763, ...</td>\n",
              "      <td>NaN</td>\n",
              "      <td>NaN</td>\n",
              "      <td>0.0</td>\n",
              "      <td>0.0</td>\n",
              "      <td>0</td>\n",
              "      <td>0</td>\n",
              "      <td>0</td>\n",
              "      <td>0</td>\n",
              "      <td>0</td>\n",
              "      <td>0</td>\n",
              "      <td>Fatigued/Drowsy</td>\n",
              "      <td>Unspecified</td>\n",
              "      <td>2853431</td>\n",
              "      <td>PASSENGER VEHICLE</td>\n",
              "      <td>PASSENGER VEHICLE</td>\n",
              "    </tr>\n",
              "    <tr>\n",
              "      <th>1612176</th>\n",
              "      <td>2012-07-18</td>\n",
              "      <td>9:20</td>\n",
              "      <td>MANHATTAN</td>\n",
              "      <td>10024</td>\n",
              "      <td>40.779479</td>\n",
              "      <td>-73.973573</td>\n",
              "      <td>{'type': 'Point', 'coordinates': [-73.9735729,...</td>\n",
              "      <td>CENTRAL PARK WEST</td>\n",
              "      <td>WEST 77 STREET</td>\n",
              "      <td>0.0</td>\n",
              "      <td>0.0</td>\n",
              "      <td>0</td>\n",
              "      <td>0</td>\n",
              "      <td>0</td>\n",
              "      <td>0</td>\n",
              "      <td>0</td>\n",
              "      <td>0</td>\n",
              "      <td>Driver Inattention/Distraction</td>\n",
              "      <td>Unspecified</td>\n",
              "      <td>52405</td>\n",
              "      <td>SPORT UTILITY / STATION WAGON</td>\n",
              "      <td>VAN</td>\n",
              "    </tr>\n",
              "    <tr>\n",
              "      <th>1612177</th>\n",
              "      <td>2012-07-12</td>\n",
              "      <td>3:10</td>\n",
              "      <td>QUEENS</td>\n",
              "      <td>11361</td>\n",
              "      <td>40.762501</td>\n",
              "      <td>-73.782522</td>\n",
              "      <td>{'type': 'Point', 'coordinates': [-73.7825216,...</td>\n",
              "      <td>39 AVENUE</td>\n",
              "      <td>203 STREET</td>\n",
              "      <td>0.0</td>\n",
              "      <td>0.0</td>\n",
              "      <td>0</td>\n",
              "      <td>0</td>\n",
              "      <td>0</td>\n",
              "      <td>0</td>\n",
              "      <td>0</td>\n",
              "      <td>0</td>\n",
              "      <td>Unspecified</td>\n",
              "      <td>NaN</td>\n",
              "      <td>259445</td>\n",
              "      <td>PASSENGER VEHICLE</td>\n",
              "      <td>NaN</td>\n",
              "    </tr>\n",
              "  </tbody>\n",
              "</table>\n",
              "<p>1609642 rows × 22 columns</p>\n",
              "</div>"
            ],
            "text/plain": [
              "        ACCIDENT DATE  ...                  VEHICLE TYPE CODE 2\n",
              "0          2019-08-05  ...                        Pick-up Truck\n",
              "1          2019-08-27  ...  Station Wagon/Sport Utility Vehicle\n",
              "2          2019-08-15  ...                                  NaN\n",
              "3          2019-08-30  ...  Station Wagon/Sport Utility Vehicle\n",
              "4          2019-08-06  ...                                 Bike\n",
              "...               ...  ...                                  ...\n",
              "1612173    2012-07-21  ...                              UNKNOWN\n",
              "1612174    2012-07-09  ...                       LIVERY VEHICLE\n",
              "1612175    2012-07-09  ...                    PASSENGER VEHICLE\n",
              "1612176    2012-07-18  ...                                  VAN\n",
              "1612177    2012-07-12  ...                                  NaN\n",
              "\n",
              "[1609642 rows x 22 columns]"
            ]
          },
          "metadata": {
            "tags": []
          },
          "execution_count": 35
        }
      ]
    },
    {
      "cell_type": "code",
      "metadata": {
        "id": "3bNJFqRXZJff",
        "colab_type": "code",
        "colab": {}
      },
      "source": [
        "sorted_data['injured'] = datadup.injured+datadup.PEDESTRIANS_INJURED+datadup.CYCLIST_INJURED+datadup.MOTORIST_INJURED"
      ],
      "execution_count": 0,
      "outputs": []
    },
    {
      "cell_type": "code",
      "metadata": {
        "id": "Z9xfDq4tZasq",
        "colab_type": "code",
        "outputId": "51425b98-62c6-4ddc-f7ef-8ec9ec557f59",
        "colab": {
          "base_uri": "https://localhost:8080/",
          "height": 406
        }
      },
      "source": [
        "sorted_data"
      ],
      "execution_count": 37,
      "outputs": [
        {
          "output_type": "execute_result",
          "data": {
            "text/html": [
              "<div>\n",
              "<style scoped>\n",
              "    .dataframe tbody tr th:only-of-type {\n",
              "        vertical-align: middle;\n",
              "    }\n",
              "\n",
              "    .dataframe tbody tr th {\n",
              "        vertical-align: top;\n",
              "    }\n",
              "\n",
              "    .dataframe thead th {\n",
              "        text-align: right;\n",
              "    }\n",
              "</style>\n",
              "<table border=\"1\" class=\"dataframe\">\n",
              "  <thead>\n",
              "    <tr style=\"text-align: right;\">\n",
              "      <th></th>\n",
              "      <th>ACCIDENT DATE</th>\n",
              "      <th>ACCIDENT TIME</th>\n",
              "      <th>BOROUGH</th>\n",
              "      <th>ZIP CODE</th>\n",
              "      <th>CONTRIBUTING FACTOR VEHICLE 1</th>\n",
              "      <th>CONTRIBUTING FACTOR VEHICLE 2</th>\n",
              "      <th>LATITUDE</th>\n",
              "      <th>LONGITUDE</th>\n",
              "      <th>killed</th>\n",
              "      <th>injured</th>\n",
              "    </tr>\n",
              "  </thead>\n",
              "  <tbody>\n",
              "    <tr>\n",
              "      <th>0</th>\n",
              "      <td>2019-08-05T00:00:00.000</td>\n",
              "      <td>16:30</td>\n",
              "      <td>QUEENS</td>\n",
              "      <td>11434</td>\n",
              "      <td>Passing Too Closely</td>\n",
              "      <td>Unspecified</td>\n",
              "      <td>40.676052</td>\n",
              "      <td>-73.790184</td>\n",
              "      <td>0.0</td>\n",
              "      <td>0.0</td>\n",
              "    </tr>\n",
              "    <tr>\n",
              "      <th>1</th>\n",
              "      <td>2019-08-27T00:00:00.000</td>\n",
              "      <td>16:02</td>\n",
              "      <td>BROOKLYN</td>\n",
              "      <td>11225</td>\n",
              "      <td>Passing Too Closely</td>\n",
              "      <td>Unspecified</td>\n",
              "      <td>40.657780</td>\n",
              "      <td>-73.951096</td>\n",
              "      <td>0.0</td>\n",
              "      <td>0.0</td>\n",
              "    </tr>\n",
              "    <tr>\n",
              "      <th>2</th>\n",
              "      <td>2019-08-15T00:00:00.000</td>\n",
              "      <td>17:57</td>\n",
              "      <td>MANHATTAN</td>\n",
              "      <td>10002</td>\n",
              "      <td>Driver Inattention/Distraction</td>\n",
              "      <td>NaN</td>\n",
              "      <td>40.718143</td>\n",
              "      <td>-73.993835</td>\n",
              "      <td>0.0</td>\n",
              "      <td>2.0</td>\n",
              "    </tr>\n",
              "    <tr>\n",
              "      <th>3</th>\n",
              "      <td>2019-08-30T00:00:00.000</td>\n",
              "      <td>21:53</td>\n",
              "      <td>BRONX</td>\n",
              "      <td>10460</td>\n",
              "      <td>Unspecified</td>\n",
              "      <td>Unspecified</td>\n",
              "      <td>40.840534</td>\n",
              "      <td>-73.866610</td>\n",
              "      <td>0.0</td>\n",
              "      <td>0.0</td>\n",
              "    </tr>\n",
              "    <tr>\n",
              "      <th>4</th>\n",
              "      <td>2019-08-06T00:00:00.000</td>\n",
              "      <td>9:45</td>\n",
              "      <td>MANHATTAN</td>\n",
              "      <td>10016</td>\n",
              "      <td>Driver Inattention/Distraction</td>\n",
              "      <td>Driver Inattention/Distraction</td>\n",
              "      <td>40.745440</td>\n",
              "      <td>-73.975400</td>\n",
              "      <td>0.0</td>\n",
              "      <td>2.0</td>\n",
              "    </tr>\n",
              "    <tr>\n",
              "      <th>...</th>\n",
              "      <td>...</td>\n",
              "      <td>...</td>\n",
              "      <td>...</td>\n",
              "      <td>...</td>\n",
              "      <td>...</td>\n",
              "      <td>...</td>\n",
              "      <td>...</td>\n",
              "      <td>...</td>\n",
              "      <td>...</td>\n",
              "      <td>...</td>\n",
              "    </tr>\n",
              "    <tr>\n",
              "      <th>1612173</th>\n",
              "      <td>2012-07-21T00:00:00.000</td>\n",
              "      <td>22:46</td>\n",
              "      <td>BROOKLYN</td>\n",
              "      <td>11226</td>\n",
              "      <td>Traffic Control Disregarded</td>\n",
              "      <td>Unspecified</td>\n",
              "      <td>40.651741</td>\n",
              "      <td>-73.965241</td>\n",
              "      <td>0.0</td>\n",
              "      <td>0.0</td>\n",
              "    </tr>\n",
              "    <tr>\n",
              "      <th>1612174</th>\n",
              "      <td>2012-07-09T00:00:00.000</td>\n",
              "      <td>16:45</td>\n",
              "      <td>NaN</td>\n",
              "      <td>NaN</td>\n",
              "      <td>Fatigued/Drowsy</td>\n",
              "      <td>Fatigued/Drowsy</td>\n",
              "      <td>NaN</td>\n",
              "      <td>NaN</td>\n",
              "      <td>0.0</td>\n",
              "      <td>10.0</td>\n",
              "    </tr>\n",
              "    <tr>\n",
              "      <th>1612175</th>\n",
              "      <td>2012-07-09T00:00:00.000</td>\n",
              "      <td>14:35</td>\n",
              "      <td>NaN</td>\n",
              "      <td>NaN</td>\n",
              "      <td>Fatigued/Drowsy</td>\n",
              "      <td>Unspecified</td>\n",
              "      <td>40.791492</td>\n",
              "      <td>-73.935763</td>\n",
              "      <td>0.0</td>\n",
              "      <td>0.0</td>\n",
              "    </tr>\n",
              "    <tr>\n",
              "      <th>1612176</th>\n",
              "      <td>2012-07-18T00:00:00.000</td>\n",
              "      <td>9:20</td>\n",
              "      <td>MANHATTAN</td>\n",
              "      <td>10024</td>\n",
              "      <td>Driver Inattention/Distraction</td>\n",
              "      <td>Unspecified</td>\n",
              "      <td>40.779479</td>\n",
              "      <td>-73.973573</td>\n",
              "      <td>0.0</td>\n",
              "      <td>0.0</td>\n",
              "    </tr>\n",
              "    <tr>\n",
              "      <th>1612177</th>\n",
              "      <td>2012-07-12T00:00:00.000</td>\n",
              "      <td>3:10</td>\n",
              "      <td>QUEENS</td>\n",
              "      <td>11361</td>\n",
              "      <td>Unspecified</td>\n",
              "      <td>NaN</td>\n",
              "      <td>40.762501</td>\n",
              "      <td>-73.782522</td>\n",
              "      <td>0.0</td>\n",
              "      <td>0.0</td>\n",
              "    </tr>\n",
              "  </tbody>\n",
              "</table>\n",
              "<p>1609642 rows × 10 columns</p>\n",
              "</div>"
            ],
            "text/plain": [
              "                   ACCIDENT DATE ACCIDENT TIME  ... killed injured\n",
              "0        2019-08-05T00:00:00.000         16:30  ...    0.0     0.0\n",
              "1        2019-08-27T00:00:00.000         16:02  ...    0.0     0.0\n",
              "2        2019-08-15T00:00:00.000         17:57  ...    0.0     2.0\n",
              "3        2019-08-30T00:00:00.000         21:53  ...    0.0     0.0\n",
              "4        2019-08-06T00:00:00.000          9:45  ...    0.0     2.0\n",
              "...                          ...           ...  ...    ...     ...\n",
              "1612173  2012-07-21T00:00:00.000         22:46  ...    0.0     0.0\n",
              "1612174  2012-07-09T00:00:00.000         16:45  ...    0.0    10.0\n",
              "1612175  2012-07-09T00:00:00.000         14:35  ...    0.0     0.0\n",
              "1612176  2012-07-18T00:00:00.000          9:20  ...    0.0     0.0\n",
              "1612177  2012-07-12T00:00:00.000          3:10  ...    0.0     0.0\n",
              "\n",
              "[1609642 rows x 10 columns]"
            ]
          },
          "metadata": {
            "tags": []
          },
          "execution_count": 37
        }
      ]
    },
    {
      "cell_type": "code",
      "metadata": {
        "id": "oEVEJePjayeh",
        "colab_type": "code",
        "colab": {}
      },
      "source": [
        "sorted_data=sorted_data.rename(columns = {\"ACCIDENT DATE\":\"Date\"}) "
      ],
      "execution_count": 0,
      "outputs": []
    },
    {
      "cell_type": "code",
      "metadata": {
        "id": "TYFU3WmYbOG2",
        "colab_type": "code",
        "outputId": "891712ef-caf6-433a-b37a-3d54415375a7",
        "colab": {
          "base_uri": "https://localhost:8080/",
          "height": 406
        }
      },
      "source": [
        "sorted_data"
      ],
      "execution_count": 39,
      "outputs": [
        {
          "output_type": "execute_result",
          "data": {
            "text/html": [
              "<div>\n",
              "<style scoped>\n",
              "    .dataframe tbody tr th:only-of-type {\n",
              "        vertical-align: middle;\n",
              "    }\n",
              "\n",
              "    .dataframe tbody tr th {\n",
              "        vertical-align: top;\n",
              "    }\n",
              "\n",
              "    .dataframe thead th {\n",
              "        text-align: right;\n",
              "    }\n",
              "</style>\n",
              "<table border=\"1\" class=\"dataframe\">\n",
              "  <thead>\n",
              "    <tr style=\"text-align: right;\">\n",
              "      <th></th>\n",
              "      <th>Date</th>\n",
              "      <th>ACCIDENT TIME</th>\n",
              "      <th>BOROUGH</th>\n",
              "      <th>ZIP CODE</th>\n",
              "      <th>CONTRIBUTING FACTOR VEHICLE 1</th>\n",
              "      <th>CONTRIBUTING FACTOR VEHICLE 2</th>\n",
              "      <th>LATITUDE</th>\n",
              "      <th>LONGITUDE</th>\n",
              "      <th>killed</th>\n",
              "      <th>injured</th>\n",
              "    </tr>\n",
              "  </thead>\n",
              "  <tbody>\n",
              "    <tr>\n",
              "      <th>0</th>\n",
              "      <td>2019-08-05T00:00:00.000</td>\n",
              "      <td>16:30</td>\n",
              "      <td>QUEENS</td>\n",
              "      <td>11434</td>\n",
              "      <td>Passing Too Closely</td>\n",
              "      <td>Unspecified</td>\n",
              "      <td>40.676052</td>\n",
              "      <td>-73.790184</td>\n",
              "      <td>0.0</td>\n",
              "      <td>0.0</td>\n",
              "    </tr>\n",
              "    <tr>\n",
              "      <th>1</th>\n",
              "      <td>2019-08-27T00:00:00.000</td>\n",
              "      <td>16:02</td>\n",
              "      <td>BROOKLYN</td>\n",
              "      <td>11225</td>\n",
              "      <td>Passing Too Closely</td>\n",
              "      <td>Unspecified</td>\n",
              "      <td>40.657780</td>\n",
              "      <td>-73.951096</td>\n",
              "      <td>0.0</td>\n",
              "      <td>0.0</td>\n",
              "    </tr>\n",
              "    <tr>\n",
              "      <th>2</th>\n",
              "      <td>2019-08-15T00:00:00.000</td>\n",
              "      <td>17:57</td>\n",
              "      <td>MANHATTAN</td>\n",
              "      <td>10002</td>\n",
              "      <td>Driver Inattention/Distraction</td>\n",
              "      <td>NaN</td>\n",
              "      <td>40.718143</td>\n",
              "      <td>-73.993835</td>\n",
              "      <td>0.0</td>\n",
              "      <td>2.0</td>\n",
              "    </tr>\n",
              "    <tr>\n",
              "      <th>3</th>\n",
              "      <td>2019-08-30T00:00:00.000</td>\n",
              "      <td>21:53</td>\n",
              "      <td>BRONX</td>\n",
              "      <td>10460</td>\n",
              "      <td>Unspecified</td>\n",
              "      <td>Unspecified</td>\n",
              "      <td>40.840534</td>\n",
              "      <td>-73.866610</td>\n",
              "      <td>0.0</td>\n",
              "      <td>0.0</td>\n",
              "    </tr>\n",
              "    <tr>\n",
              "      <th>4</th>\n",
              "      <td>2019-08-06T00:00:00.000</td>\n",
              "      <td>9:45</td>\n",
              "      <td>MANHATTAN</td>\n",
              "      <td>10016</td>\n",
              "      <td>Driver Inattention/Distraction</td>\n",
              "      <td>Driver Inattention/Distraction</td>\n",
              "      <td>40.745440</td>\n",
              "      <td>-73.975400</td>\n",
              "      <td>0.0</td>\n",
              "      <td>2.0</td>\n",
              "    </tr>\n",
              "    <tr>\n",
              "      <th>...</th>\n",
              "      <td>...</td>\n",
              "      <td>...</td>\n",
              "      <td>...</td>\n",
              "      <td>...</td>\n",
              "      <td>...</td>\n",
              "      <td>...</td>\n",
              "      <td>...</td>\n",
              "      <td>...</td>\n",
              "      <td>...</td>\n",
              "      <td>...</td>\n",
              "    </tr>\n",
              "    <tr>\n",
              "      <th>1612173</th>\n",
              "      <td>2012-07-21T00:00:00.000</td>\n",
              "      <td>22:46</td>\n",
              "      <td>BROOKLYN</td>\n",
              "      <td>11226</td>\n",
              "      <td>Traffic Control Disregarded</td>\n",
              "      <td>Unspecified</td>\n",
              "      <td>40.651741</td>\n",
              "      <td>-73.965241</td>\n",
              "      <td>0.0</td>\n",
              "      <td>0.0</td>\n",
              "    </tr>\n",
              "    <tr>\n",
              "      <th>1612174</th>\n",
              "      <td>2012-07-09T00:00:00.000</td>\n",
              "      <td>16:45</td>\n",
              "      <td>NaN</td>\n",
              "      <td>NaN</td>\n",
              "      <td>Fatigued/Drowsy</td>\n",
              "      <td>Fatigued/Drowsy</td>\n",
              "      <td>NaN</td>\n",
              "      <td>NaN</td>\n",
              "      <td>0.0</td>\n",
              "      <td>10.0</td>\n",
              "    </tr>\n",
              "    <tr>\n",
              "      <th>1612175</th>\n",
              "      <td>2012-07-09T00:00:00.000</td>\n",
              "      <td>14:35</td>\n",
              "      <td>NaN</td>\n",
              "      <td>NaN</td>\n",
              "      <td>Fatigued/Drowsy</td>\n",
              "      <td>Unspecified</td>\n",
              "      <td>40.791492</td>\n",
              "      <td>-73.935763</td>\n",
              "      <td>0.0</td>\n",
              "      <td>0.0</td>\n",
              "    </tr>\n",
              "    <tr>\n",
              "      <th>1612176</th>\n",
              "      <td>2012-07-18T00:00:00.000</td>\n",
              "      <td>9:20</td>\n",
              "      <td>MANHATTAN</td>\n",
              "      <td>10024</td>\n",
              "      <td>Driver Inattention/Distraction</td>\n",
              "      <td>Unspecified</td>\n",
              "      <td>40.779479</td>\n",
              "      <td>-73.973573</td>\n",
              "      <td>0.0</td>\n",
              "      <td>0.0</td>\n",
              "    </tr>\n",
              "    <tr>\n",
              "      <th>1612177</th>\n",
              "      <td>2012-07-12T00:00:00.000</td>\n",
              "      <td>3:10</td>\n",
              "      <td>QUEENS</td>\n",
              "      <td>11361</td>\n",
              "      <td>Unspecified</td>\n",
              "      <td>NaN</td>\n",
              "      <td>40.762501</td>\n",
              "      <td>-73.782522</td>\n",
              "      <td>0.0</td>\n",
              "      <td>0.0</td>\n",
              "    </tr>\n",
              "  </tbody>\n",
              "</table>\n",
              "<p>1609642 rows × 10 columns</p>\n",
              "</div>"
            ],
            "text/plain": [
              "                            Date ACCIDENT TIME  ... killed injured\n",
              "0        2019-08-05T00:00:00.000         16:30  ...    0.0     0.0\n",
              "1        2019-08-27T00:00:00.000         16:02  ...    0.0     0.0\n",
              "2        2019-08-15T00:00:00.000         17:57  ...    0.0     2.0\n",
              "3        2019-08-30T00:00:00.000         21:53  ...    0.0     0.0\n",
              "4        2019-08-06T00:00:00.000          9:45  ...    0.0     2.0\n",
              "...                          ...           ...  ...    ...     ...\n",
              "1612173  2012-07-21T00:00:00.000         22:46  ...    0.0     0.0\n",
              "1612174  2012-07-09T00:00:00.000         16:45  ...    0.0    10.0\n",
              "1612175  2012-07-09T00:00:00.000         14:35  ...    0.0     0.0\n",
              "1612176  2012-07-18T00:00:00.000          9:20  ...    0.0     0.0\n",
              "1612177  2012-07-12T00:00:00.000          3:10  ...    0.0     0.0\n",
              "\n",
              "[1609642 rows x 10 columns]"
            ]
          },
          "metadata": {
            "tags": []
          },
          "execution_count": 39
        }
      ]
    },
    {
      "cell_type": "code",
      "metadata": {
        "id": "XB1Vd_nOZfbd",
        "colab_type": "code",
        "outputId": "3a72719d-7f31-4ac9-8719-49e99862b816",
        "colab": {
          "base_uri": "https://localhost:8080/",
          "height": 347
        }
      },
      "source": [
        "# Percentage of missing values in each column\n",
        "df_missing = pd.DataFrame(sorted_data.isnull().sum(), columns = ['Count Missing Values'])\n",
        "df_missing['% Missing Values'] = (sorted_data.isnull().sum()/len(sorted_data))*100\n",
        "\n",
        "df_missing"
      ],
      "execution_count": 40,
      "outputs": [
        {
          "output_type": "execute_result",
          "data": {
            "text/html": [
              "<div>\n",
              "<style scoped>\n",
              "    .dataframe tbody tr th:only-of-type {\n",
              "        vertical-align: middle;\n",
              "    }\n",
              "\n",
              "    .dataframe tbody tr th {\n",
              "        vertical-align: top;\n",
              "    }\n",
              "\n",
              "    .dataframe thead th {\n",
              "        text-align: right;\n",
              "    }\n",
              "</style>\n",
              "<table border=\"1\" class=\"dataframe\">\n",
              "  <thead>\n",
              "    <tr style=\"text-align: right;\">\n",
              "      <th></th>\n",
              "      <th>Count Missing Values</th>\n",
              "      <th>% Missing Values</th>\n",
              "    </tr>\n",
              "  </thead>\n",
              "  <tbody>\n",
              "    <tr>\n",
              "      <th>Date</th>\n",
              "      <td>0</td>\n",
              "      <td>0.000000</td>\n",
              "    </tr>\n",
              "    <tr>\n",
              "      <th>ACCIDENT TIME</th>\n",
              "      <td>0</td>\n",
              "      <td>0.000000</td>\n",
              "    </tr>\n",
              "    <tr>\n",
              "      <th>BOROUGH</th>\n",
              "      <td>482089</td>\n",
              "      <td>29.950076</td>\n",
              "    </tr>\n",
              "    <tr>\n",
              "      <th>ZIP CODE</th>\n",
              "      <td>482266</td>\n",
              "      <td>29.961072</td>\n",
              "    </tr>\n",
              "    <tr>\n",
              "      <th>CONTRIBUTING FACTOR VEHICLE 1</th>\n",
              "      <td>4164</td>\n",
              "      <td>0.258691</td>\n",
              "    </tr>\n",
              "    <tr>\n",
              "      <th>CONTRIBUTING FACTOR VEHICLE 2</th>\n",
              "      <td>213521</td>\n",
              "      <td>13.265124</td>\n",
              "    </tr>\n",
              "    <tr>\n",
              "      <th>LATITUDE</th>\n",
              "      <td>193749</td>\n",
              "      <td>12.036776</td>\n",
              "    </tr>\n",
              "    <tr>\n",
              "      <th>LONGITUDE</th>\n",
              "      <td>193749</td>\n",
              "      <td>12.036776</td>\n",
              "    </tr>\n",
              "    <tr>\n",
              "      <th>killed</th>\n",
              "      <td>29</td>\n",
              "      <td>0.001802</td>\n",
              "    </tr>\n",
              "    <tr>\n",
              "      <th>injured</th>\n",
              "      <td>15</td>\n",
              "      <td>0.000932</td>\n",
              "    </tr>\n",
              "  </tbody>\n",
              "</table>\n",
              "</div>"
            ],
            "text/plain": [
              "                               Count Missing Values  % Missing Values\n",
              "Date                                              0          0.000000\n",
              "ACCIDENT TIME                                     0          0.000000\n",
              "BOROUGH                                      482089         29.950076\n",
              "ZIP CODE                                     482266         29.961072\n",
              "CONTRIBUTING FACTOR VEHICLE 1                  4164          0.258691\n",
              "CONTRIBUTING FACTOR VEHICLE 2                213521         13.265124\n",
              "LATITUDE                                     193749         12.036776\n",
              "LONGITUDE                                    193749         12.036776\n",
              "killed                                           29          0.001802\n",
              "injured                                          15          0.000932"
            ]
          },
          "metadata": {
            "tags": []
          },
          "execution_count": 40
        }
      ]
    },
    {
      "cell_type": "code",
      "metadata": {
        "id": "M7ZGlRm4ZvIw",
        "colab_type": "code",
        "outputId": "51adcb89-7bb9-48f9-8675-cc70cd8bdb70",
        "colab": {
          "base_uri": "https://localhost:8080/",
          "height": 34
        }
      },
      "source": [
        "#Get the data\n",
        "df_im = sorted_data[['Date','injured']]\n",
        "\n",
        "type(df_im['Date'])"
      ],
      "execution_count": 41,
      "outputs": [
        {
          "output_type": "execute_result",
          "data": {
            "text/plain": [
              "pandas.core.series.Series"
            ]
          },
          "metadata": {
            "tags": []
          },
          "execution_count": 41
        }
      ]
    },
    {
      "cell_type": "code",
      "metadata": {
        "id": "XiaF7l2yagUs",
        "colab_type": "code",
        "colab": {}
      },
      "source": [
        "sorted_data['Date'] = pd.to_datetime(sorted_data['Date'])\n"
      ],
      "execution_count": 0,
      "outputs": []
    },
    {
      "cell_type": "code",
      "metadata": {
        "id": "2tWtD7mZcPzs",
        "colab_type": "code",
        "outputId": "12e50ba9-c810-43cb-d65c-dc6da45de134",
        "colab": {
          "base_uri": "https://localhost:8080/",
          "height": 620
        }
      },
      "source": [
        "#Get the data\n",
        "df_im = sorted_data[['Date','injured']]\n",
        "\n",
        "df_im['year'] = df_im.Date.dt.year\n",
        "df_im['month'] = df_im.Date.dt.month\n",
        "\n",
        "df_im = df_im.drop(['Date'], axis=1)\n",
        "\n",
        "df_im"
      ],
      "execution_count": 43,
      "outputs": [
        {
          "output_type": "stream",
          "text": [
            "/usr/local/lib/python3.6/dist-packages/ipykernel_launcher.py:3: SettingWithCopyWarning: \n",
            "A value is trying to be set on a copy of a slice from a DataFrame.\n",
            "Try using .loc[row_indexer,col_indexer] = value instead\n",
            "\n",
            "See the caveats in the documentation: http://pandas.pydata.org/pandas-docs/stable/user_guide/indexing.html#returning-a-view-versus-a-copy\n",
            "  This is separate from the ipykernel package so we can avoid doing imports until\n",
            "/usr/local/lib/python3.6/dist-packages/ipykernel_launcher.py:4: SettingWithCopyWarning: \n",
            "A value is trying to be set on a copy of a slice from a DataFrame.\n",
            "Try using .loc[row_indexer,col_indexer] = value instead\n",
            "\n",
            "See the caveats in the documentation: http://pandas.pydata.org/pandas-docs/stable/user_guide/indexing.html#returning-a-view-versus-a-copy\n",
            "  after removing the cwd from sys.path.\n"
          ],
          "name": "stderr"
        },
        {
          "output_type": "execute_result",
          "data": {
            "text/html": [
              "<div>\n",
              "<style scoped>\n",
              "    .dataframe tbody tr th:only-of-type {\n",
              "        vertical-align: middle;\n",
              "    }\n",
              "\n",
              "    .dataframe tbody tr th {\n",
              "        vertical-align: top;\n",
              "    }\n",
              "\n",
              "    .dataframe thead th {\n",
              "        text-align: right;\n",
              "    }\n",
              "</style>\n",
              "<table border=\"1\" class=\"dataframe\">\n",
              "  <thead>\n",
              "    <tr style=\"text-align: right;\">\n",
              "      <th></th>\n",
              "      <th>injured</th>\n",
              "      <th>year</th>\n",
              "      <th>month</th>\n",
              "    </tr>\n",
              "  </thead>\n",
              "  <tbody>\n",
              "    <tr>\n",
              "      <th>0</th>\n",
              "      <td>0.0</td>\n",
              "      <td>2019</td>\n",
              "      <td>8</td>\n",
              "    </tr>\n",
              "    <tr>\n",
              "      <th>1</th>\n",
              "      <td>0.0</td>\n",
              "      <td>2019</td>\n",
              "      <td>8</td>\n",
              "    </tr>\n",
              "    <tr>\n",
              "      <th>2</th>\n",
              "      <td>2.0</td>\n",
              "      <td>2019</td>\n",
              "      <td>8</td>\n",
              "    </tr>\n",
              "    <tr>\n",
              "      <th>3</th>\n",
              "      <td>0.0</td>\n",
              "      <td>2019</td>\n",
              "      <td>8</td>\n",
              "    </tr>\n",
              "    <tr>\n",
              "      <th>4</th>\n",
              "      <td>2.0</td>\n",
              "      <td>2019</td>\n",
              "      <td>8</td>\n",
              "    </tr>\n",
              "    <tr>\n",
              "      <th>...</th>\n",
              "      <td>...</td>\n",
              "      <td>...</td>\n",
              "      <td>...</td>\n",
              "    </tr>\n",
              "    <tr>\n",
              "      <th>1612173</th>\n",
              "      <td>0.0</td>\n",
              "      <td>2012</td>\n",
              "      <td>7</td>\n",
              "    </tr>\n",
              "    <tr>\n",
              "      <th>1612174</th>\n",
              "      <td>10.0</td>\n",
              "      <td>2012</td>\n",
              "      <td>7</td>\n",
              "    </tr>\n",
              "    <tr>\n",
              "      <th>1612175</th>\n",
              "      <td>0.0</td>\n",
              "      <td>2012</td>\n",
              "      <td>7</td>\n",
              "    </tr>\n",
              "    <tr>\n",
              "      <th>1612176</th>\n",
              "      <td>0.0</td>\n",
              "      <td>2012</td>\n",
              "      <td>7</td>\n",
              "    </tr>\n",
              "    <tr>\n",
              "      <th>1612177</th>\n",
              "      <td>0.0</td>\n",
              "      <td>2012</td>\n",
              "      <td>7</td>\n",
              "    </tr>\n",
              "  </tbody>\n",
              "</table>\n",
              "<p>1609642 rows × 3 columns</p>\n",
              "</div>"
            ],
            "text/plain": [
              "         injured  year  month\n",
              "0            0.0  2019      8\n",
              "1            0.0  2019      8\n",
              "2            2.0  2019      8\n",
              "3            0.0  2019      8\n",
              "4            2.0  2019      8\n",
              "...          ...   ...    ...\n",
              "1612173      0.0  2012      7\n",
              "1612174     10.0  2012      7\n",
              "1612175      0.0  2012      7\n",
              "1612176      0.0  2012      7\n",
              "1612177      0.0  2012      7\n",
              "\n",
              "[1609642 rows x 3 columns]"
            ]
          },
          "metadata": {
            "tags": []
          },
          "execution_count": 43
        }
      ]
    },
    {
      "cell_type": "code",
      "metadata": {
        "id": "yYhIsSUrcpjL",
        "colab_type": "code",
        "colab": {}
      },
      "source": [
        "# import libraries \n",
        "import matplotlib.pyplot as plt \n",
        "import pandas as pd \n",
        "import numpy as np \n",
        "\n",
        "\n",
        "x=df_im['year']\n",
        "y=df_im['injured']"
      ],
      "execution_count": 0,
      "outputs": []
    },
    {
      "cell_type": "code",
      "metadata": {
        "id": "Cu8yG_4MEZj9",
        "colab_type": "code",
        "outputId": "a1746cb4-b31e-41e1-cf43-3489f63d6b72",
        "colab": {
          "base_uri": "https://localhost:8080/",
          "height": 298
        }
      },
      "source": [
        "\n",
        "\n",
        "plt.plot(x, y) \n",
        "plt.title('Injured year basis') \n"
      ],
      "execution_count": 45,
      "outputs": [
        {
          "output_type": "execute_result",
          "data": {
            "text/plain": [
              "Text(0.5, 1.0, 'Injured year basis')"
            ]
          },
          "metadata": {
            "tags": []
          },
          "execution_count": 45
        },
        {
          "output_type": "display_data",
          "data": {
            "image/png": "[encoded data removed]",
            "text/plain": [
              "<Figure size 432x288 with 1 Axes>"
            ]
          },
          "metadata": {
            "tags": []
          }
        }
      ]
    },
    {
      "cell_type": "code",
      "metadata": {
        "id": "D0j48bV6E0FM",
        "colab_type": "code",
        "colab": {}
      },
      "source": [
        "df_im2=sorted_data[['Date','killed']]"
      ],
      "execution_count": 0,
      "outputs": []
    },
    {
      "cell_type": "code",
      "metadata": {
        "id": "8eInW6AFFXBO",
        "colab_type": "code",
        "outputId": "86a5643b-9fa8-437f-9bba-6b9d5e5bc5e1",
        "colab": {
          "base_uri": "https://localhost:8080/",
          "height": 406
        }
      },
      "source": [
        "df_im2"
      ],
      "execution_count": 47,
      "outputs": [
        {
          "output_type": "execute_result",
          "data": {
            "text/html": [
              "<div>\n",
              "<style scoped>\n",
              "    .dataframe tbody tr th:only-of-type {\n",
              "        vertical-align: middle;\n",
              "    }\n",
              "\n",
              "    .dataframe tbody tr th {\n",
              "        vertical-align: top;\n",
              "    }\n",
              "\n",
              "    .dataframe thead th {\n",
              "        text-align: right;\n",
              "    }\n",
              "</style>\n",
              "<table border=\"1\" class=\"dataframe\">\n",
              "  <thead>\n",
              "    <tr style=\"text-align: right;\">\n",
              "      <th></th>\n",
              "      <th>Date</th>\n",
              "      <th>killed</th>\n",
              "    </tr>\n",
              "  </thead>\n",
              "  <tbody>\n",
              "    <tr>\n",
              "      <th>0</th>\n",
              "      <td>2019-08-05</td>\n",
              "      <td>0.0</td>\n",
              "    </tr>\n",
              "    <tr>\n",
              "      <th>1</th>\n",
              "      <td>2019-08-27</td>\n",
              "      <td>0.0</td>\n",
              "    </tr>\n",
              "    <tr>\n",
              "      <th>2</th>\n",
              "      <td>2019-08-15</td>\n",
              "      <td>0.0</td>\n",
              "    </tr>\n",
              "    <tr>\n",
              "      <th>3</th>\n",
              "      <td>2019-08-30</td>\n",
              "      <td>0.0</td>\n",
              "    </tr>\n",
              "    <tr>\n",
              "      <th>4</th>\n",
              "      <td>2019-08-06</td>\n",
              "      <td>0.0</td>\n",
              "    </tr>\n",
              "    <tr>\n",
              "      <th>...</th>\n",
              "      <td>...</td>\n",
              "      <td>...</td>\n",
              "    </tr>\n",
              "    <tr>\n",
              "      <th>1612173</th>\n",
              "      <td>2012-07-21</td>\n",
              "      <td>0.0</td>\n",
              "    </tr>\n",
              "    <tr>\n",
              "      <th>1612174</th>\n",
              "      <td>2012-07-09</td>\n",
              "      <td>0.0</td>\n",
              "    </tr>\n",
              "    <tr>\n",
              "      <th>1612175</th>\n",
              "      <td>2012-07-09</td>\n",
              "      <td>0.0</td>\n",
              "    </tr>\n",
              "    <tr>\n",
              "      <th>1612176</th>\n",
              "      <td>2012-07-18</td>\n",
              "      <td>0.0</td>\n",
              "    </tr>\n",
              "    <tr>\n",
              "      <th>1612177</th>\n",
              "      <td>2012-07-12</td>\n",
              "      <td>0.0</td>\n",
              "    </tr>\n",
              "  </tbody>\n",
              "</table>\n",
              "<p>1609642 rows × 2 columns</p>\n",
              "</div>"
            ],
            "text/plain": [
              "              Date  killed\n",
              "0       2019-08-05     0.0\n",
              "1       2019-08-27     0.0\n",
              "2       2019-08-15     0.0\n",
              "3       2019-08-30     0.0\n",
              "4       2019-08-06     0.0\n",
              "...            ...     ...\n",
              "1612173 2012-07-21     0.0\n",
              "1612174 2012-07-09     0.0\n",
              "1612175 2012-07-09     0.0\n",
              "1612176 2012-07-18     0.0\n",
              "1612177 2012-07-12     0.0\n",
              "\n",
              "[1609642 rows x 2 columns]"
            ]
          },
          "metadata": {
            "tags": []
          },
          "execution_count": 47
        }
      ]
    },
    {
      "cell_type": "code",
      "metadata": {
        "id": "Ytp0DwrfFcBf",
        "colab_type": "code",
        "outputId": "8c77e859-e0fc-484f-cc3e-da2bb5b55180",
        "colab": {
          "base_uri": "https://localhost:8080/",
          "height": 620
        }
      },
      "source": [
        "\n",
        "df_im2['year'] = df_im2.Date.dt.year\n",
        "df_im2['month'] = df_im2.Date.dt.month\n",
        "\n",
        "df_im2 = df_im2.drop(['Date'], axis=1)\n",
        "\n",
        "df_im2"
      ],
      "execution_count": 48,
      "outputs": [
        {
          "output_type": "stream",
          "text": [
            "/usr/local/lib/python3.6/dist-packages/ipykernel_launcher.py:2: SettingWithCopyWarning: \n",
            "A value is trying to be set on a copy of a slice from a DataFrame.\n",
            "Try using .loc[row_indexer,col_indexer] = value instead\n",
            "\n",
            "See the caveats in the documentation: http://pandas.pydata.org/pandas-docs/stable/user_guide/indexing.html#returning-a-view-versus-a-copy\n",
            "  \n",
            "/usr/local/lib/python3.6/dist-packages/ipykernel_launcher.py:3: SettingWithCopyWarning: \n",
            "A value is trying to be set on a copy of a slice from a DataFrame.\n",
            "Try using .loc[row_indexer,col_indexer] = value instead\n",
            "\n",
            "See the caveats in the documentation: http://pandas.pydata.org/pandas-docs/stable/user_guide/indexing.html#returning-a-view-versus-a-copy\n",
            "  This is separate from the ipykernel package so we can avoid doing imports until\n"
          ],
          "name": "stderr"
        },
        {
          "output_type": "execute_result",
          "data": {
            "text/html": [
              "<div>\n",
              "<style scoped>\n",
              "    .dataframe tbody tr th:only-of-type {\n",
              "        vertical-align: middle;\n",
              "    }\n",
              "\n",
              "    .dataframe tbody tr th {\n",
              "        vertical-align: top;\n",
              "    }\n",
              "\n",
              "    .dataframe thead th {\n",
              "        text-align: right;\n",
              "    }\n",
              "</style>\n",
              "<table border=\"1\" class=\"dataframe\">\n",
              "  <thead>\n",
              "    <tr style=\"text-align: right;\">\n",
              "      <th></th>\n",
              "      <th>killed</th>\n",
              "      <th>year</th>\n",
              "      <th>month</th>\n",
              "    </tr>\n",
              "  </thead>\n",
              "  <tbody>\n",
              "    <tr>\n",
              "      <th>0</th>\n",
              "      <td>0.0</td>\n",
              "      <td>2019</td>\n",
              "      <td>8</td>\n",
              "    </tr>\n",
              "    <tr>\n",
              "      <th>1</th>\n",
              "      <td>0.0</td>\n",
              "      <td>2019</td>\n",
              "      <td>8</td>\n",
              "    </tr>\n",
              "    <tr>\n",
              "      <th>2</th>\n",
              "      <td>0.0</td>\n",
              "      <td>2019</td>\n",
              "      <td>8</td>\n",
              "    </tr>\n",
              "    <tr>\n",
              "      <th>3</th>\n",
              "      <td>0.0</td>\n",
              "      <td>2019</td>\n",
              "      <td>8</td>\n",
              "    </tr>\n",
              "    <tr>\n",
              "      <th>4</th>\n",
              "      <td>0.0</td>\n",
              "      <td>2019</td>\n",
              "      <td>8</td>\n",
              "    </tr>\n",
              "    <tr>\n",
              "      <th>...</th>\n",
              "      <td>...</td>\n",
              "      <td>...</td>\n",
              "      <td>...</td>\n",
              "    </tr>\n",
              "    <tr>\n",
              "      <th>1612173</th>\n",
              "      <td>0.0</td>\n",
              "      <td>2012</td>\n",
              "      <td>7</td>\n",
              "    </tr>\n",
              "    <tr>\n",
              "      <th>1612174</th>\n",
              "      <td>0.0</td>\n",
              "      <td>2012</td>\n",
              "      <td>7</td>\n",
              "    </tr>\n",
              "    <tr>\n",
              "      <th>1612175</th>\n",
              "      <td>0.0</td>\n",
              "      <td>2012</td>\n",
              "      <td>7</td>\n",
              "    </tr>\n",
              "    <tr>\n",
              "      <th>1612176</th>\n",
              "      <td>0.0</td>\n",
              "      <td>2012</td>\n",
              "      <td>7</td>\n",
              "    </tr>\n",
              "    <tr>\n",
              "      <th>1612177</th>\n",
              "      <td>0.0</td>\n",
              "      <td>2012</td>\n",
              "      <td>7</td>\n",
              "    </tr>\n",
              "  </tbody>\n",
              "</table>\n",
              "<p>1609642 rows × 3 columns</p>\n",
              "</div>"
            ],
            "text/plain": [
              "         killed  year  month\n",
              "0           0.0  2019      8\n",
              "1           0.0  2019      8\n",
              "2           0.0  2019      8\n",
              "3           0.0  2019      8\n",
              "4           0.0  2019      8\n",
              "...         ...   ...    ...\n",
              "1612173     0.0  2012      7\n",
              "1612174     0.0  2012      7\n",
              "1612175     0.0  2012      7\n",
              "1612176     0.0  2012      7\n",
              "1612177     0.0  2012      7\n",
              "\n",
              "[1609642 rows x 3 columns]"
            ]
          },
          "metadata": {
            "tags": []
          },
          "execution_count": 48
        }
      ]
    },
    {
      "cell_type": "code",
      "metadata": {
        "id": "R-wbJepMFlz_",
        "colab_type": "code",
        "outputId": "9fd8cb1f-ac57-4c43-f66a-bf4e8172d555",
        "colab": {
          "base_uri": "https://localhost:8080/",
          "height": 298
        }
      },
      "source": [
        "# import libraries \n",
        "import matplotlib.pyplot as plt \n",
        "import pandas as pd \n",
        "import numpy as np \n",
        "\n",
        "\n",
        "x=df_im2['year']\n",
        "y=df_im2['killed']\n",
        "plt.plot(x,y)\n",
        "plt.title('Killed year basis') "
      ],
      "execution_count": 49,
      "outputs": [
        {
          "output_type": "execute_result",
          "data": {
            "text/plain": [
              "Text(0.5, 1.0, 'Killed year basis')"
            ]
          },
          "metadata": {
            "tags": []
          },
          "execution_count": 49
        },
        {
          "output_type": "display_data",
          "data": {
            "image/png": "[encoded data removed]",
            "text/plain": [
              "<Figure size 432x288 with 1 Axes>"
            ]
          },
          "metadata": {
            "tags": []
          }
        }
      ]
    },
    {
      "cell_type": "code",
      "metadata": {
        "id": "4VeFsH14GtNt",
        "colab_type": "code",
        "outputId": "a07f27c3-16ad-407d-bbc7-58ab8e78f6fe",
        "colab": {
          "base_uri": "https://localhost:8080/",
          "height": 282
        }
      },
      "source": [
        "plt.scatter(x,y)"
      ],
      "execution_count": 50,
      "outputs": [
        {
          "output_type": "execute_result",
          "data": {
            "text/plain": [
              "<matplotlib.collections.PathCollection at 0x7f2bc3829ba8>"
            ]
          },
          "metadata": {
            "tags": []
          },
          "execution_count": 50
        },
        {
          "output_type": "display_data",
          "data": {
            "image/png": "[encoded data removed]",
            "text/plain": [
              "<Figure size 432x288 with 1 Axes>"
            ]
          },
          "metadata": {
            "tags": []
          }
        }
      ]
    },
    {
      "cell_type": "code",
      "metadata": {
        "id": "aa17c9FlF3Ki",
        "colab_type": "code",
        "outputId": "c0925fbf-5fad-42c3-968e-754d4d4d313f",
        "colab": {
          "base_uri": "https://localhost:8080/",
          "height": 406
        }
      },
      "source": [
        "sorted_data"
      ],
      "execution_count": 51,
      "outputs": [
        {
          "output_type": "execute_result",
          "data": {
            "text/html": [
              "<div>\n",
              "<style scoped>\n",
              "    .dataframe tbody tr th:only-of-type {\n",
              "        vertical-align: middle;\n",
              "    }\n",
              "\n",
              "    .dataframe tbody tr th {\n",
              "        vertical-align: top;\n",
              "    }\n",
              "\n",
              "    .dataframe thead th {\n",
              "        text-align: right;\n",
              "    }\n",
              "</style>\n",
              "<table border=\"1\" class=\"dataframe\">\n",
              "  <thead>\n",
              "    <tr style=\"text-align: right;\">\n",
              "      <th></th>\n",
              "      <th>Date</th>\n",
              "      <th>ACCIDENT TIME</th>\n",
              "      <th>BOROUGH</th>\n",
              "      <th>ZIP CODE</th>\n",
              "      <th>CONTRIBUTING FACTOR VEHICLE 1</th>\n",
              "      <th>CONTRIBUTING FACTOR VEHICLE 2</th>\n",
              "      <th>LATITUDE</th>\n",
              "      <th>LONGITUDE</th>\n",
              "      <th>killed</th>\n",
              "      <th>injured</th>\n",
              "    </tr>\n",
              "  </thead>\n",
              "  <tbody>\n",
              "    <tr>\n",
              "      <th>0</th>\n",
              "      <td>2019-08-05</td>\n",
              "      <td>16:30</td>\n",
              "      <td>QUEENS</td>\n",
              "      <td>11434</td>\n",
              "      <td>Passing Too Closely</td>\n",
              "      <td>Unspecified</td>\n",
              "      <td>40.676052</td>\n",
              "      <td>-73.790184</td>\n",
              "      <td>0.0</td>\n",
              "      <td>0.0</td>\n",
              "    </tr>\n",
              "    <tr>\n",
              "      <th>1</th>\n",
              "      <td>2019-08-27</td>\n",
              "      <td>16:02</td>\n",
              "      <td>BROOKLYN</td>\n",
              "      <td>11225</td>\n",
              "      <td>Passing Too Closely</td>\n",
              "      <td>Unspecified</td>\n",
              "      <td>40.657780</td>\n",
              "      <td>-73.951096</td>\n",
              "      <td>0.0</td>\n",
              "      <td>0.0</td>\n",
              "    </tr>\n",
              "    <tr>\n",
              "      <th>2</th>\n",
              "      <td>2019-08-15</td>\n",
              "      <td>17:57</td>\n",
              "      <td>MANHATTAN</td>\n",
              "      <td>10002</td>\n",
              "      <td>Driver Inattention/Distraction</td>\n",
              "      <td>NaN</td>\n",
              "      <td>40.718143</td>\n",
              "      <td>-73.993835</td>\n",
              "      <td>0.0</td>\n",
              "      <td>2.0</td>\n",
              "    </tr>\n",
              "    <tr>\n",
              "      <th>3</th>\n",
              "      <td>2019-08-30</td>\n",
              "      <td>21:53</td>\n",
              "      <td>BRONX</td>\n",
              "      <td>10460</td>\n",
              "      <td>Unspecified</td>\n",
              "      <td>Unspecified</td>\n",
              "      <td>40.840534</td>\n",
              "      <td>-73.866610</td>\n",
              "      <td>0.0</td>\n",
              "      <td>0.0</td>\n",
              "    </tr>\n",
              "    <tr>\n",
              "      <th>4</th>\n",
              "      <td>2019-08-06</td>\n",
              "      <td>9:45</td>\n",
              "      <td>MANHATTAN</td>\n",
              "      <td>10016</td>\n",
              "      <td>Driver Inattention/Distraction</td>\n",
              "      <td>Driver Inattention/Distraction</td>\n",
              "      <td>40.745440</td>\n",
              "      <td>-73.975400</td>\n",
              "      <td>0.0</td>\n",
              "      <td>2.0</td>\n",
              "    </tr>\n",
              "    <tr>\n",
              "      <th>...</th>\n",
              "      <td>...</td>\n",
              "      <td>...</td>\n",
              "      <td>...</td>\n",
              "      <td>...</td>\n",
              "      <td>...</td>\n",
              "      <td>...</td>\n",
              "      <td>...</td>\n",
              "      <td>...</td>\n",
              "      <td>...</td>\n",
              "      <td>...</td>\n",
              "    </tr>\n",
              "    <tr>\n",
              "      <th>1612173</th>\n",
              "      <td>2012-07-21</td>\n",
              "      <td>22:46</td>\n",
              "      <td>BROOKLYN</td>\n",
              "      <td>11226</td>\n",
              "      <td>Traffic Control Disregarded</td>\n",
              "      <td>Unspecified</td>\n",
              "      <td>40.651741</td>\n",
              "      <td>-73.965241</td>\n",
              "      <td>0.0</td>\n",
              "      <td>0.0</td>\n",
              "    </tr>\n",
              "    <tr>\n",
              "      <th>1612174</th>\n",
              "      <td>2012-07-09</td>\n",
              "      <td>16:45</td>\n",
              "      <td>NaN</td>\n",
              "      <td>NaN</td>\n",
              "      <td>Fatigued/Drowsy</td>\n",
              "      <td>Fatigued/Drowsy</td>\n",
              "      <td>NaN</td>\n",
              "      <td>NaN</td>\n",
              "      <td>0.0</td>\n",
              "      <td>10.0</td>\n",
              "    </tr>\n",
              "    <tr>\n",
              "      <th>1612175</th>\n",
              "      <td>2012-07-09</td>\n",
              "      <td>14:35</td>\n",
              "      <td>NaN</td>\n",
              "      <td>NaN</td>\n",
              "      <td>Fatigued/Drowsy</td>\n",
              "      <td>Unspecified</td>\n",
              "      <td>40.791492</td>\n",
              "      <td>-73.935763</td>\n",
              "      <td>0.0</td>\n",
              "      <td>0.0</td>\n",
              "    </tr>\n",
              "    <tr>\n",
              "      <th>1612176</th>\n",
              "      <td>2012-07-18</td>\n",
              "      <td>9:20</td>\n",
              "      <td>MANHATTAN</td>\n",
              "      <td>10024</td>\n",
              "      <td>Driver Inattention/Distraction</td>\n",
              "      <td>Unspecified</td>\n",
              "      <td>40.779479</td>\n",
              "      <td>-73.973573</td>\n",
              "      <td>0.0</td>\n",
              "      <td>0.0</td>\n",
              "    </tr>\n",
              "    <tr>\n",
              "      <th>1612177</th>\n",
              "      <td>2012-07-12</td>\n",
              "      <td>3:10</td>\n",
              "      <td>QUEENS</td>\n",
              "      <td>11361</td>\n",
              "      <td>Unspecified</td>\n",
              "      <td>NaN</td>\n",
              "      <td>40.762501</td>\n",
              "      <td>-73.782522</td>\n",
              "      <td>0.0</td>\n",
              "      <td>0.0</td>\n",
              "    </tr>\n",
              "  </tbody>\n",
              "</table>\n",
              "<p>1609642 rows × 10 columns</p>\n",
              "</div>"
            ],
            "text/plain": [
              "              Date ACCIDENT TIME    BOROUGH  ...  LONGITUDE killed injured\n",
              "0       2019-08-05         16:30     QUEENS  ... -73.790184    0.0     0.0\n",
              "1       2019-08-27         16:02   BROOKLYN  ... -73.951096    0.0     0.0\n",
              "2       2019-08-15         17:57  MANHATTAN  ... -73.993835    0.0     2.0\n",
              "3       2019-08-30         21:53      BRONX  ... -73.866610    0.0     0.0\n",
              "4       2019-08-06          9:45  MANHATTAN  ... -73.975400    0.0     2.0\n",
              "...            ...           ...        ...  ...        ...    ...     ...\n",
              "1612173 2012-07-21         22:46   BROOKLYN  ... -73.965241    0.0     0.0\n",
              "1612174 2012-07-09         16:45        NaN  ...        NaN    0.0    10.0\n",
              "1612175 2012-07-09         14:35        NaN  ... -73.935763    0.0     0.0\n",
              "1612176 2012-07-18          9:20  MANHATTAN  ... -73.973573    0.0     0.0\n",
              "1612177 2012-07-12          3:10     QUEENS  ... -73.782522    0.0     0.0\n",
              "\n",
              "[1609642 rows x 10 columns]"
            ]
          },
          "metadata": {
            "tags": []
          },
          "execution_count": 51
        }
      ]
    },
    {
      "cell_type": "code",
      "metadata": {
        "id": "d7P9n7HLF_SG",
        "colab_type": "code",
        "outputId": "2c6a50e9-3d99-4335-8b6a-8178dae75a40",
        "colab": {
          "base_uri": "https://localhost:8080/",
          "height": 158
        }
      },
      "source": [
        "datadup.columns"
      ],
      "execution_count": 52,
      "outputs": [
        {
          "output_type": "execute_result",
          "data": {
            "text/plain": [
              "Index(['ACCIDENT DATE', 'ACCIDENT TIME', 'BOROUGH', 'ZIP CODE', 'LATITUDE',\n",
              "       'LONGITUDE', 'LOCATION', 'ON STREET NAME', 'CROSS STREET NAME',\n",
              "       'injured', 'killed', 'PEDESTRIANS_INJURED', 'PEDESTRIANS_KILLED',\n",
              "       'CYCLIST_INJURED', 'CYCLIST_KILLED', 'MOTORIST_INJURED',\n",
              "       'MOTORIST_KILLED', 'CONTRIBUTING FACTOR VEHICLE 1',\n",
              "       'CONTRIBUTING FACTOR VEHICLE 2', 'COLLISION_ID', 'VEHICLE TYPE CODE 1',\n",
              "       'VEHICLE TYPE CODE 2'],\n",
              "      dtype='object')"
            ]
          },
          "metadata": {
            "tags": []
          },
          "execution_count": 52
        }
      ]
    },
    {
      "cell_type": "code",
      "metadata": {
        "id": "8E0U8x3hGV3N",
        "colab_type": "code",
        "colab": {}
      },
      "source": [
        "data_analysis=datadup[['ACCIDENT DATE','PEDESTRIANS_INJURED', 'PEDESTRIANS_KILLED',\n",
        "       'CYCLIST_INJURED', 'CYCLIST_KILLED', 'MOTORIST_INJURED',\n",
        "       'MOTORIST_KILLED']]"
      ],
      "execution_count": 0,
      "outputs": []
    },
    {
      "cell_type": "code",
      "metadata": {
        "id": "qN6zjeaiHHV1",
        "colab_type": "code",
        "outputId": "2293afad-32d4-4f0c-e733-45f10a19f406",
        "colab": {
          "base_uri": "https://localhost:8080/",
          "height": 406
        }
      },
      "source": [
        "data_analysis"
      ],
      "execution_count": 54,
      "outputs": [
        {
          "output_type": "execute_result",
          "data": {
            "text/html": [
              "<div>\n",
              "<style scoped>\n",
              "    .dataframe tbody tr th:only-of-type {\n",
              "        vertical-align: middle;\n",
              "    }\n",
              "\n",
              "    .dataframe tbody tr th {\n",
              "        vertical-align: top;\n",
              "    }\n",
              "\n",
              "    .dataframe thead th {\n",
              "        text-align: right;\n",
              "    }\n",
              "</style>\n",
              "<table border=\"1\" class=\"dataframe\">\n",
              "  <thead>\n",
              "    <tr style=\"text-align: right;\">\n",
              "      <th></th>\n",
              "      <th>ACCIDENT DATE</th>\n",
              "      <th>PEDESTRIANS_INJURED</th>\n",
              "      <th>PEDESTRIANS_KILLED</th>\n",
              "      <th>CYCLIST_INJURED</th>\n",
              "      <th>CYCLIST_KILLED</th>\n",
              "      <th>MOTORIST_INJURED</th>\n",
              "      <th>MOTORIST_KILLED</th>\n",
              "    </tr>\n",
              "  </thead>\n",
              "  <tbody>\n",
              "    <tr>\n",
              "      <th>0</th>\n",
              "      <td>2019-08-05</td>\n",
              "      <td>0</td>\n",
              "      <td>0</td>\n",
              "      <td>0</td>\n",
              "      <td>0</td>\n",
              "      <td>0</td>\n",
              "      <td>0</td>\n",
              "    </tr>\n",
              "    <tr>\n",
              "      <th>1</th>\n",
              "      <td>2019-08-27</td>\n",
              "      <td>0</td>\n",
              "      <td>0</td>\n",
              "      <td>0</td>\n",
              "      <td>0</td>\n",
              "      <td>0</td>\n",
              "      <td>0</td>\n",
              "    </tr>\n",
              "    <tr>\n",
              "      <th>2</th>\n",
              "      <td>2019-08-15</td>\n",
              "      <td>0</td>\n",
              "      <td>0</td>\n",
              "      <td>0</td>\n",
              "      <td>0</td>\n",
              "      <td>1</td>\n",
              "      <td>0</td>\n",
              "    </tr>\n",
              "    <tr>\n",
              "      <th>3</th>\n",
              "      <td>2019-08-30</td>\n",
              "      <td>0</td>\n",
              "      <td>0</td>\n",
              "      <td>0</td>\n",
              "      <td>0</td>\n",
              "      <td>0</td>\n",
              "      <td>0</td>\n",
              "    </tr>\n",
              "    <tr>\n",
              "      <th>4</th>\n",
              "      <td>2019-08-06</td>\n",
              "      <td>0</td>\n",
              "      <td>0</td>\n",
              "      <td>1</td>\n",
              "      <td>0</td>\n",
              "      <td>0</td>\n",
              "      <td>0</td>\n",
              "    </tr>\n",
              "    <tr>\n",
              "      <th>...</th>\n",
              "      <td>...</td>\n",
              "      <td>...</td>\n",
              "      <td>...</td>\n",
              "      <td>...</td>\n",
              "      <td>...</td>\n",
              "      <td>...</td>\n",
              "      <td>...</td>\n",
              "    </tr>\n",
              "    <tr>\n",
              "      <th>1612173</th>\n",
              "      <td>2012-07-21</td>\n",
              "      <td>0</td>\n",
              "      <td>0</td>\n",
              "      <td>0</td>\n",
              "      <td>0</td>\n",
              "      <td>0</td>\n",
              "      <td>0</td>\n",
              "    </tr>\n",
              "    <tr>\n",
              "      <th>1612174</th>\n",
              "      <td>2012-07-09</td>\n",
              "      <td>0</td>\n",
              "      <td>0</td>\n",
              "      <td>0</td>\n",
              "      <td>0</td>\n",
              "      <td>5</td>\n",
              "      <td>0</td>\n",
              "    </tr>\n",
              "    <tr>\n",
              "      <th>1612175</th>\n",
              "      <td>2012-07-09</td>\n",
              "      <td>0</td>\n",
              "      <td>0</td>\n",
              "      <td>0</td>\n",
              "      <td>0</td>\n",
              "      <td>0</td>\n",
              "      <td>0</td>\n",
              "    </tr>\n",
              "    <tr>\n",
              "      <th>1612176</th>\n",
              "      <td>2012-07-18</td>\n",
              "      <td>0</td>\n",
              "      <td>0</td>\n",
              "      <td>0</td>\n",
              "      <td>0</td>\n",
              "      <td>0</td>\n",
              "      <td>0</td>\n",
              "    </tr>\n",
              "    <tr>\n",
              "      <th>1612177</th>\n",
              "      <td>2012-07-12</td>\n",
              "      <td>0</td>\n",
              "      <td>0</td>\n",
              "      <td>0</td>\n",
              "      <td>0</td>\n",
              "      <td>0</td>\n",
              "      <td>0</td>\n",
              "    </tr>\n",
              "  </tbody>\n",
              "</table>\n",
              "<p>1609642 rows × 7 columns</p>\n",
              "</div>"
            ],
            "text/plain": [
              "        ACCIDENT DATE  PEDESTRIANS_INJURED  ...  MOTORIST_INJURED  MOTORIST_KILLED\n",
              "0          2019-08-05                    0  ...                 0                0\n",
              "1          2019-08-27                    0  ...                 0                0\n",
              "2          2019-08-15                    0  ...                 1                0\n",
              "3          2019-08-30                    0  ...                 0                0\n",
              "4          2019-08-06                    0  ...                 0                0\n",
              "...               ...                  ...  ...               ...              ...\n",
              "1612173    2012-07-21                    0  ...                 0                0\n",
              "1612174    2012-07-09                    0  ...                 5                0\n",
              "1612175    2012-07-09                    0  ...                 0                0\n",
              "1612176    2012-07-18                    0  ...                 0                0\n",
              "1612177    2012-07-12                    0  ...                 0                0\n",
              "\n",
              "[1609642 rows x 7 columns]"
            ]
          },
          "metadata": {
            "tags": []
          },
          "execution_count": 54
        }
      ]
    },
    {
      "cell_type": "code",
      "metadata": {
        "id": "1OimnoKAHIwW",
        "colab_type": "code",
        "colab": {}
      },
      "source": [
        "data_analysis=data_analysis.rename(columns = {\"ACCIDENT DATE\":\"Date\"}) "
      ],
      "execution_count": 0,
      "outputs": []
    },
    {
      "cell_type": "code",
      "metadata": {
        "id": "pXbhhOYOHU2C",
        "colab_type": "code",
        "outputId": "215319c1-8242-47ba-b154-1075cb095a4d",
        "colab": {
          "base_uri": "https://localhost:8080/",
          "height": 70
        }
      },
      "source": [
        "\n",
        "data_analysis.columns"
      ],
      "execution_count": 56,
      "outputs": [
        {
          "output_type": "execute_result",
          "data": {
            "text/plain": [
              "Index(['Date', 'PEDESTRIANS_INJURED', 'PEDESTRIANS_KILLED', 'CYCLIST_INJURED',\n",
              "       'CYCLIST_KILLED', 'MOTORIST_INJURED', 'MOTORIST_KILLED'],\n",
              "      dtype='object')"
            ]
          },
          "metadata": {
            "tags": []
          },
          "execution_count": 56
        }
      ]
    },
    {
      "cell_type": "code",
      "metadata": {
        "id": "lCHWrSCVHcLW",
        "colab_type": "code",
        "colab": {}
      },
      "source": [
        "data_analysis['Date'] = pd.to_datetime(data_analysis['Date'])\n"
      ],
      "execution_count": 0,
      "outputs": []
    },
    {
      "cell_type": "code",
      "metadata": {
        "id": "5Xcz7HEfHiC5",
        "colab_type": "code",
        "colab": {}
      },
      "source": [
        "#year based motor cycle graph\n",
        "data_analysis['year'] = data_analysis.Date.dt.year\n",
        "\n",
        "y=data_analysis[['MOTORIST_KILLED']]\n",
        "x=data_analysis['year']"
      ],
      "execution_count": 0,
      "outputs": []
    },
    {
      "cell_type": "code",
      "metadata": {
        "id": "frNB553rHw_d",
        "colab_type": "code",
        "outputId": "ea172346-5771-4cfb-d68a-764eec5e6d4f",
        "colab": {
          "base_uri": "https://localhost:8080/",
          "height": 298
        }
      },
      "source": [
        "plt.plot(x,y)\n",
        "plt.title('MOTORIST_KILLED year basis') "
      ],
      "execution_count": 59,
      "outputs": [
        {
          "output_type": "execute_result",
          "data": {
            "text/plain": [
              "Text(0.5, 1.0, 'MOTORIST_KILLED year basis')"
            ]
          },
          "metadata": {
            "tags": []
          },
          "execution_count": 59
        },
        {
          "output_type": "display_data",
          "data": {
            "image/png": "[encoded data removed]",
            "text/plain": [
              "<Figure size 432x288 with 1 Axes>"
            ]
          },
          "metadata": {
            "tags": []
          }
        }
      ]
    },
    {
      "cell_type": "code",
      "metadata": {
        "id": "DBbZz1EnHzxc",
        "colab_type": "code",
        "colab": {}
      },
      "source": [
        "y=data_analysis[['MOTORIST_INJURED']]\n",
        "x=data_analysis['year']"
      ],
      "execution_count": 0,
      "outputs": []
    },
    {
      "cell_type": "code",
      "metadata": {
        "id": "8O-NlYJQImR4",
        "colab_type": "code",
        "outputId": "f88d27eb-eeb0-41b0-d4d4-121d6491df59",
        "colab": {
          "base_uri": "https://localhost:8080/",
          "height": 298
        }
      },
      "source": [
        "plt.plot(x,y)\n",
        "plt.title('MOTORIST_INJURED year basis') "
      ],
      "execution_count": 61,
      "outputs": [
        {
          "output_type": "execute_result",
          "data": {
            "text/plain": [
              "Text(0.5, 1.0, 'MOTORIST_INJURED year basis')"
            ]
          },
          "metadata": {
            "tags": []
          },
          "execution_count": 61
        },
        {
          "output_type": "display_data",
          "data": {
            "image/png": "[encoded data removed]",
            "text/plain": [
              "<Figure size 432x288 with 1 Axes>"
            ]
          },
          "metadata": {
            "tags": []
          }
        }
      ]
    },
    {
      "cell_type": "code",
      "metadata": {
        "id": "AR4BXNylIEi-",
        "colab_type": "code",
        "outputId": "97135c70-1f10-4ab5-bc88-88775a3ae153",
        "colab": {
          "base_uri": "https://localhost:8080/",
          "height": 298
        }
      },
      "source": [
        "y=data_analysis[['PEDESTRIANS_INJURED']]\n",
        "plt.plot(x,y)\n",
        "plt.title('PEDESTRIANS_INJURED year basis') "
      ],
      "execution_count": 62,
      "outputs": [
        {
          "output_type": "execute_result",
          "data": {
            "text/plain": [
              "Text(0.5, 1.0, 'PEDESTRIANS_INJURED year basis')"
            ]
          },
          "metadata": {
            "tags": []
          },
          "execution_count": 62
        },
        {
          "output_type": "display_data",
          "data": {
            "image/png": "[encoded data removed]",
            "text/plain": [
              "<Figure size 432x288 with 1 Axes>"
            ]
          },
          "metadata": {
            "tags": []
          }
        }
      ]
    },
    {
      "cell_type": "code",
      "metadata": {
        "id": "jBXNg5VsIEvZ",
        "colab_type": "code",
        "outputId": "a3310360-232d-4430-8d05-b505662b9cb2",
        "colab": {
          "base_uri": "https://localhost:8080/",
          "height": 298
        }
      },
      "source": [
        "y=data_analysis[['PEDESTRIANS_KILLED']]\n",
        "plt.plot(x,y)\n",
        "plt.title('PEDESTRIANS_kILLED year basis')"
      ],
      "execution_count": 63,
      "outputs": [
        {
          "output_type": "execute_result",
          "data": {
            "text/plain": [
              "Text(0.5, 1.0, 'PEDESTRIANS_kILLED year basis')"
            ]
          },
          "metadata": {
            "tags": []
          },
          "execution_count": 63
        },
        {
          "output_type": "display_data",
          "data": {
            "image/png": "[encoded data removed]",
            "text/plain": [
              "<Figure size 432x288 with 1 Axes>"
            ]
          },
          "metadata": {
            "tags": []
          }
        }
      ]
    },
    {
      "cell_type": "code",
      "metadata": {
        "id": "jpmwmQOBItLF",
        "colab_type": "code",
        "outputId": "544f2fde-2a15-478d-ecf0-8eec56c186da",
        "colab": {
          "base_uri": "https://localhost:8080/",
          "height": 298
        }
      },
      "source": [
        "\n",
        "y=data_analysis[['CYCLIST_INJURED']]\n",
        "plt.plot(x,y)\n",
        "plt.title('CYCLIST_INJURED year basis')"
      ],
      "execution_count": 64,
      "outputs": [
        {
          "output_type": "execute_result",
          "data": {
            "text/plain": [
              "Text(0.5, 1.0, 'CYCLIST_INJURED year basis')"
            ]
          },
          "metadata": {
            "tags": []
          },
          "execution_count": 64
        },
        {
          "output_type": "display_data",
          "data": {
            "image/png": "[encoded data removed]",
            "text/plain": [
              "<Figure size 432x288 with 1 Axes>"
            ]
          },
          "metadata": {
            "tags": []
          }
        }
      ]
    },
    {
      "cell_type": "code",
      "metadata": {
        "id": "irToM7oIItJf",
        "colab_type": "code",
        "outputId": "87321bea-b0be-4dd8-9887-000017fb650b",
        "colab": {
          "base_uri": "https://localhost:8080/",
          "height": 298
        }
      },
      "source": [
        "\n",
        "y=data_analysis[['CYCLIST_KILLED']]\n",
        "plt.plot(x,y)\n",
        "plt.title('CYCLIST_KILLED year basis')"
      ],
      "execution_count": 65,
      "outputs": [
        {
          "output_type": "execute_result",
          "data": {
            "text/plain": [
              "Text(0.5, 1.0, 'CYCLIST_KILLED year basis')"
            ]
          },
          "metadata": {
            "tags": []
          },
          "execution_count": 65
        },
        {
          "output_type": "display_data",
          "data": {
            "image/png": "[encoded data removed]",
            "text/plain": [
              "<Figure size 432x288 with 1 Axes>"
            ]
          },
          "metadata": {
            "tags": []
          }
        }
      ]
    },
    {
      "cell_type": "code",
      "metadata": {
        "id": "6jRu2mY-IsRF",
        "colab_type": "code",
        "colab": {
          "base_uri": "https://localhost:8080/",
          "height": 238
        },
        "outputId": "000477c1-25f3-4f15-b44f-999099d00e13"
      },
      "source": [
        "import folium \n",
        "llocation=datadup[['LATITUDE']]  \n",
        "lattitude_l=location.values.tolist()\n",
        "Glocation=datadup[['LONGITUDE']]\n",
        "lattitude_G=Glocation.values.tolist()"
      ],
      "execution_count": 67,
      "outputs": [
        {
          "output_type": "error",
          "ename": "NameError",
          "evalue": "ignored",
          "traceback": [
            "\u001b[0;31m---------------------------------------------------------------------------\u001b[0m",
            "\u001b[0;31mNameError\u001b[0m                                 Traceback (most recent call last)",
            "\u001b[0;32m<ipython-input-67-df203ca55b55>\u001b[0m in \u001b[0;36m<module>\u001b[0;34m()\u001b[0m\n\u001b[1;32m      1\u001b[0m \u001b[0;32mimport\u001b[0m \u001b[0mfolium\u001b[0m\u001b[0;34m\u001b[0m\u001b[0;34m\u001b[0m\u001b[0m\n\u001b[1;32m      2\u001b[0m \u001b[0mllocation\u001b[0m\u001b[0;34m=\u001b[0m\u001b[0mdatadup\u001b[0m\u001b[0;34m[\u001b[0m\u001b[0;34m[\u001b[0m\u001b[0;34m'LATITUDE'\u001b[0m\u001b[0;34m]\u001b[0m\u001b[0;34m]\u001b[0m\u001b[0;34m\u001b[0m\u001b[0;34m\u001b[0m\u001b[0m\n\u001b[0;32m----> 3\u001b[0;31m \u001b[0mlattitude_l\u001b[0m\u001b[0;34m=\u001b[0m\u001b[0mlocation\u001b[0m\u001b[0;34m.\u001b[0m\u001b[0mvalues\u001b[0m\u001b[0;34m.\u001b[0m\u001b[0mtolist\u001b[0m\u001b[0;34m(\u001b[0m\u001b[0;34m)\u001b[0m\u001b[0;34m\u001b[0m\u001b[0;34m\u001b[0m\u001b[0m\n\u001b[0m\u001b[1;32m      4\u001b[0m \u001b[0mGlocation\u001b[0m\u001b[0;34m=\u001b[0m\u001b[0mdatadup\u001b[0m\u001b[0;34m[\u001b[0m\u001b[0;34m[\u001b[0m\u001b[0;34m'LONGITUDE'\u001b[0m\u001b[0;34m]\u001b[0m\u001b[0;34m]\u001b[0m\u001b[0;34m\u001b[0m\u001b[0;34m\u001b[0m\u001b[0m\n\u001b[1;32m      5\u001b[0m \u001b[0mlattitude_G\u001b[0m\u001b[0;34m=\u001b[0m\u001b[0mGlocation\u001b[0m\u001b[0;34m.\u001b[0m\u001b[0mvalues\u001b[0m\u001b[0;34m.\u001b[0m\u001b[0mtolist\u001b[0m\u001b[0;34m(\u001b[0m\u001b[0;34m)\u001b[0m\u001b[0;34m\u001b[0m\u001b[0;34m\u001b[0m\u001b[0m\n",
            "\u001b[0;31mNameError\u001b[0m: name 'location' is not defined"
          ]
        }
      ]
    },
    {
      "cell_type": "code",
      "metadata": {
        "id": "PazZJCAiRDGj",
        "colab_type": "code",
        "colab": {}
      },
      "source": [
        "print(lattitude_G[0],lattitude_l[0])"
      ],
      "execution_count": 0,
      "outputs": []
    },
    {
      "cell_type": "code",
      "metadata": {
        "id": "Ktxj4jRAKTMT",
        "colab_type": "code",
        "colab": {}
      },
      "source": [
        "#for i in range(len(lattitude_G)):\n",
        "  #print(lattitude_G[i],lattitude_l[i])"
      ],
      "execution_count": 0,
      "outputs": []
    },
    {
      "cell_type": "code",
      "metadata": {
        "id": "LU1Fb7t4LxEz",
        "colab_type": "code",
        "colab": {}
      },
      "source": [
        "b_list=datadup.BOROUGH.dropna()"
      ],
      "execution_count": 0,
      "outputs": []
    },
    {
      "cell_type": "code",
      "metadata": {
        "id": "oLK-6UDUVtSz",
        "colab_type": "code",
        "outputId": "53e067dd-8014-4ee0-931f-7da55a2d5ee6",
        "colab": {
          "base_uri": "https://localhost:8080/",
          "height": 34
        }
      },
      "source": [
        "a=set(b_list)\n",
        "len(a)"
      ],
      "execution_count": 73,
      "outputs": [
        {
          "output_type": "execute_result",
          "data": {
            "text/plain": [
              "5"
            ]
          },
          "metadata": {
            "tags": []
          },
          "execution_count": 73
        }
      ]
    },
    {
      "cell_type": "code",
      "metadata": {
        "id": "lYxfoa5-VvwB",
        "colab_type": "code",
        "colab": {
          "base_uri": "https://localhost:8080/",
          "height": 34
        },
        "outputId": "080c6486-c15f-4f40-d89f-c6b59c42dee1"
      },
      "source": [
        "a"
      ],
      "execution_count": 74,
      "outputs": [
        {
          "output_type": "execute_result",
          "data": {
            "text/plain": [
              "{'BRONX', 'BROOKLYN', 'MANHATTAN', 'QUEENS', 'STATEN ISLAND'}"
            ]
          },
          "metadata": {
            "tags": []
          },
          "execution_count": 74
        }
      ]
    },
    {
      "cell_type": "code",
      "metadata": {
        "id": "R7qqk7Q_ayuM",
        "colab_type": "code",
        "colab": {}
      },
      "source": [
        "d=list(a)"
      ],
      "execution_count": 0,
      "outputs": []
    },
    {
      "cell_type": "code",
      "metadata": {
        "id": "_njMm0elbVuX",
        "colab_type": "code",
        "colab": {}
      },
      "source": [
        "s=d[0]"
      ],
      "execution_count": 0,
      "outputs": []
    },
    {
      "cell_type": "markdown",
      "metadata": {
        "id": "BKvjB7mRfpkX",
        "colab_type": "text"
      },
      "source": [
        "#Total count of killed and injured per borough"
      ]
    },
    {
      "cell_type": "code",
      "metadata": {
        "id": "nKa0nKK_dazB",
        "colab_type": "code",
        "colab": {
          "base_uri": "https://localhost:8080/",
          "height": 283
        },
        "outputId": "82427e03-c891-4122-c47f-5340b94563d7"
      },
      "source": [
        "s=0\n",
        "k=0\n",
        "i=0\n",
        "for i in range(len(d)):\n",
        "  s=d[i]\n",
        "  k=sorted_data.loc[sorted_data['BOROUGH'] == s].count().killed\n",
        "  i=sorted_data.loc[sorted_data['BOROUGH'] == s].count().injured\n",
        "  print('Borough',s)\n",
        "  print('killed',k)\n",
        "  print('injured',i)"
      ],
      "execution_count": 95,
      "outputs": [
        {
          "output_type": "stream",
          "text": [
            "Borough BROOKLYN\n",
            "killed 349678\n",
            "injured 349679\n",
            "Borough MANHATTAN\n",
            "killed 272124\n",
            "injured 272127\n",
            "Borough STATEN ISLAND\n",
            "killed 49524\n",
            "injured 49526\n",
            "Borough QUEENS\n",
            "killed 299305\n",
            "injured 299304\n",
            "Borough BRONX\n",
            "killed 156898\n",
            "injured 156906\n"
          ],
          "name": "stdout"
        }
      ]
    },
    {
      "cell_type": "code",
      "metadata": {
        "id": "eQqBFiQtbzPR",
        "colab_type": "code",
        "colab": {
          "base_uri": "https://localhost:8080/",
          "height": 283
        },
        "outputId": "2c66f020-a75a-47f9-d302-9bed04525c2d"
      },
      "source": [
        "\n",
        "s=()\n",
        "k=()\n",
        "i=()\n",
        "for i in range(len(d)):\n",
        "  s=d[i]\n",
        "  k=sorted_data.loc[sorted_data['BOROUGH'] == s].count().killed\n",
        "  i=sorted_data.loc[sorted_data['BOROUGH'] == s].count().injured\n",
        "  print('Borough',s)\n",
        "  print('killed',k)\n",
        "  print('injured',i)\n",
        "  "
      ],
      "execution_count": 97,
      "outputs": [
        {
          "output_type": "stream",
          "text": [
            "Borough BROOKLYN\n",
            "killed 349678\n",
            "injured 349679\n",
            "Borough MANHATTAN\n",
            "killed 272124\n",
            "injured 272127\n",
            "Borough STATEN ISLAND\n",
            "killed 49524\n",
            "injured 49526\n",
            "Borough QUEENS\n",
            "killed 299305\n",
            "injured 299304\n",
            "Borough BRONX\n",
            "killed 156898\n",
            "injured 156906\n"
          ],
          "name": "stdout"
        }
      ]
    },
    {
      "cell_type": "code",
      "metadata": {
        "id": "-Yiner0ndPDF",
        "colab_type": "code",
        "colab": {
          "base_uri": "https://localhost:8080/",
          "height": 34
        },
        "outputId": "329c0f85-20a0-4534-e646-27004948c0a9"
      },
      "source": [
        ""
      ],
      "execution_count": 98,
      "outputs": [
        {
          "output_type": "execute_result",
          "data": {
            "text/plain": [
              "156898"
            ]
          },
          "metadata": {
            "tags": []
          },
          "execution_count": 98
        }
      ]
    },
    {
      "cell_type": "code",
      "metadata": {
        "id": "PKiMxPXagKWg",
        "colab_type": "code",
        "colab": {}
      },
      "source": [
        ""
      ],
      "execution_count": 0,
      "outputs": []
    }
  ]
}